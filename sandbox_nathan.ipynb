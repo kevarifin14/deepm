{
 "cells": [
  {
   "cell_type": "code",
   "execution_count": 20,
   "metadata": {
    "collapsed": false
   },
   "outputs": [
    {
     "name": "stdout",
     "output_type": "stream",
     "text": [
      "The autoreload extension is already loaded. To reload it, use:\n",
      "  %reload_ext autoreload\n"
     ]
    }
   ],
   "source": [
    "from markethistory import MarketHistory\n",
    "from constants import * \n",
    "import numpy as np\n",
    "import matplotlib.pyplot as plt\n",
    "import pandas as pd\n",
    "import xgboost as xgb\n",
    "from supervised import *\n",
    "import pandas as pd\n",
    "import json\n",
    "%matplotlib inline\n",
    "%load_ext autoreload\n",
    "%autoreload 2"
   ]
  },
  {
   "cell_type": "code",
   "execution_count": 25,
   "metadata": {
    "collapsed": true
   },
   "outputs": [],
   "source": [
    "with open('config.json') as file:\n",
    "    config = json.load(file)"
   ]
  },
  {
   "cell_type": "markdown",
   "metadata": {},
   "source": [
    "Example"
   ]
  },
  {
   "cell_type": "code",
   "execution_count": 26,
   "metadata": {
    "collapsed": false
   },
   "outputs": [
    {
     "name": "stdout",
     "output_type": "stream",
     "text": [
      "Warning: missing data for following coins ['DASH', 'FCT', 'GNT', 'ZEC']\n"
     ]
    }
   ],
   "source": [
    "markethistory = MarketHistory(config)"
   ]
  },
  {
   "cell_type": "code",
   "execution_count": 27,
   "metadata": {
    "collapsed": false
   },
   "outputs": [
    {
     "data": {
      "text/plain": [
       "(6, 11, 66330)"
      ]
     },
     "execution_count": 27,
     "metadata": {},
     "output_type": "execute_result"
    }
   ],
   "source": [
    "markethistory.data.shape"
   ]
  },
  {
   "cell_type": "code",
   "execution_count": 28,
   "metadata": {
    "collapsed": false
   },
   "outputs": [
    {
     "name": "stderr",
     "output_type": "stream",
     "text": [
      "/Users/Nathan/Desktop/cs194/project/cryptoprofit/deepm/supervised.py:99: RuntimeWarning: divide by zero encountered in true_divide\n",
      "  returns = np.diff(prices,axis=1) / prices[:,:-1]\n",
      "/Users/Nathan/Desktop/cs194/project/cryptoprofit/deepm/supervised.py:99: RuntimeWarning: invalid value encountered in true_divide\n",
      "  returns = np.diff(prices,axis=1) / prices[:,:-1]\n"
     ]
    }
   ],
   "source": [
    "data = data_maker(markethistory.data,lookback_window=15,normalization=\"returns\")"
   ]
  },
  {
   "cell_type": "code",
   "execution_count": 31,
   "metadata": {
    "collapsed": false
   },
   "outputs": [
    {
     "name": "stdout",
     "output_type": "stream",
     "text": [
      "Training coin: BCH\n",
      "Training error\n",
      "0.407\n",
      "Validation error\n",
      "0.416\n",
      "Training coin: DGB\n",
      "Training error\n",
      "0.396\n",
      "Validation error\n",
      "0.379\n",
      "Training coin: ETC\n",
      "Training error\n",
      "0.395\n",
      "Validation error\n",
      "0.437\n",
      "Training coin: ETH\n",
      "Training error\n",
      "0.413\n",
      "Validation error\n",
      "0.433\n",
      "Training coin: LTC\n",
      "Training error\n",
      "0.42\n",
      "Validation error\n",
      "0.437\n",
      "Training coin: SC\n",
      "Training error\n",
      "0.373\n",
      "Validation error\n",
      "0.386\n",
      "Training coin: STR\n",
      "Training error\n",
      "0.426\n",
      "Validation error\n",
      "0.423\n",
      "Training coin: XEM\n",
      "Training error\n",
      "0.416\n",
      "Validation error\n",
      "0.441\n",
      "Training coin: XMR\n",
      "Training error\n",
      "0.402\n",
      "Validation error\n",
      "0.425\n",
      "Training coin: XRP\n",
      "Training error\n",
      "0.428\n",
      "Validation error\n",
      "0.45\n",
      "Training coin: reversed_USDT\n",
      "Training error\n",
      "0.438\n",
      "Validation error\n",
      "0.472\n"
     ]
    }
   ],
   "source": [
    "agent = Agent(data,markethistory.traded_coins,num_rounds=10)"
   ]
  },
  {
   "cell_type": "code",
   "execution_count": null,
   "metadata": {
    "collapsed": true
   },
   "outputs": [],
   "source": [
    "mode"
   ]
  },
  {
   "cell_type": "code",
   "execution_count": 33,
   "metadata": {
    "collapsed": false
   },
   "outputs": [
    {
     "ename": "AttributeError",
     "evalue": "'Booster' object has no attribute 'feature_importances_'",
     "output_type": "error",
     "traceback": [
      "\u001b[0;31m---------------------------------------------------------------------------\u001b[0m",
      "\u001b[0;31mAttributeError\u001b[0m                            Traceback (most recent call last)",
      "\u001b[0;32m<ipython-input-33-4864a5f1c75f>\u001b[0m in \u001b[0;36m<module>\u001b[0;34m()\u001b[0m\n\u001b[0;32m----> 1\u001b[0;31m pd.Series(agent.models['SC'].bst.feature_importances_,\n\u001b[0m\u001b[1;32m      2\u001b[0m           index=['Close','High','Low','Volume','MA Short','MA Long']).sort_values(ascending=True).plot(kind='barh',figsize=(12,18),title='XGBOOST FEATURE IMPORTANCE')\n",
      "\u001b[0;31mAttributeError\u001b[0m: 'Booster' object has no attribute 'feature_importances_'"
     ]
    }
   ],
   "source": [
    "pd.Series(agent.models['SC'].bst.feature_importances_,\n",
    "          index=['Close','High','Low','Volume','MA Short','MA Long']).sort_values(ascending=True).plot(kind='barh',figsize=(12,18),title='XGBOOST FEATURE IMPORTANCE')"
   ]
  },
  {
   "cell_type": "code",
   "execution_count": 38,
   "metadata": {
    "collapsed": false
   },
   "outputs": [
    {
     "ename": "AttributeError",
     "evalue": "'Booster' object has no attribute 'plot'",
     "output_type": "error",
     "traceback": [
      "\u001b[0;31m---------------------------------------------------------------------------\u001b[0m",
      "\u001b[0;31mAttributeError\u001b[0m                            Traceback (most recent call last)",
      "\u001b[0;32m<ipython-input-38-726dc3e64348>\u001b[0m in \u001b[0;36m<module>\u001b[0;34m()\u001b[0m\n\u001b[0;32m----> 1\u001b[0;31m \u001b[0magent\u001b[0m\u001b[0;34m.\u001b[0m\u001b[0mmodels\u001b[0m\u001b[0;34m[\u001b[0m\u001b[0;34m'SC'\u001b[0m\u001b[0;34m]\u001b[0m\u001b[0;34m.\u001b[0m\u001b[0mbst\u001b[0m\u001b[0;34m.\u001b[0m\u001b[0mplot\u001b[0m\u001b[0;34m.\u001b[0m\u001b[0mimportance\u001b[0m\u001b[0;34m(\u001b[0m\u001b[0;34m)\u001b[0m\u001b[0;34m\u001b[0m\u001b[0m\n\u001b[0m",
      "\u001b[0;31mAttributeError\u001b[0m: 'Booster' object has no attribute 'plot'"
     ]
    }
   ],
   "source": [
    "\n",
    "agent.models['SC'].bst"
   ]
  },
  {
   "cell_type": "markdown",
   "metadata": {},
   "source": [
    "### Classification (before we modularized everything and added moving average features)"
   ]
  },
  {
   "cell_type": "code",
   "execution_count": 157,
   "metadata": {
    "collapsed": true
   },
   "outputs": [],
   "source": [
    "len_window = 3000\n",
    "prices_trading = data_[0,:,T-len_window:]\n",
    "returns = np.diff(prices_trading,axis=1)\n",
    "ret = (returns / prices_trading[:,:-1]).T"
   ]
  },
  {
   "cell_type": "markdown",
   "metadata": {},
   "source": [
    "#### One model for each coin"
   ]
  },
  {
   "cell_type": "code",
   "execution_count": 160,
   "metadata": {
    "collapsed": false
   },
   "outputs": [],
   "source": [
    "len_window = 10000\n",
    "prices_trading = data_[0,:,T-len_window:T]\n",
    "returns = np.diff(prices_trading,axis=1)\n",
    "ret = (returns / prices_trading[:,:-1]).T\n",
    "lookback = 20\n",
    "n = len_window - 1\n",
    "split_index = int(.8*n)\n",
    "regression = False\n",
    "use_prices = False\n",
    "X_train = {}\n",
    "Y_train = {}\n",
    "for coin in range(11):\n",
    "    x_train = []\n",
    "    y_train = []\n",
    "    for i in range(lookback,split_index):\n",
    "        if use_prices is True:\n",
    "            x = np.append(data_[0,coin,i-lookback:i].reshape(-1,),i)\n",
    "        else:\n",
    "            x = np.append(ret[i-lookback:i,coin].reshape(-1,),i)\n",
    "        x_train.append(x)\n",
    "        y = ret[i,coin]\n",
    "        if regression is False:\n",
    "            if y > 0:\n",
    "                y = 1\n",
    "            else:\n",
    "                y = 0\n",
    "        y_train.append(y)\n",
    "    X_train[coin] = x_train\n",
    "    Y_train[coin] = y_train\n",
    "\n",
    "X_test = {}\n",
    "Y_test = {}\n",
    "for coin in range(11):\n",
    "    x_test = []\n",
    "    y_test = []\n",
    "    for i in range(split_index,n):\n",
    "        if use_prices is True:\n",
    "            x = np.append(data_[0,coin,i-lookback:i].reshape(-1,),i)\n",
    "        else:\n",
    "            x = np.append(ret[i-lookback:i,coin].reshape(-1,),i)\n",
    "        x_test.append(x)\n",
    "        y = ret[i,coin]\n",
    "        if regression is False:\n",
    "            if y > 0:\n",
    "                y = 1\n",
    "            else:\n",
    "                y = 0\n",
    "        y_test.append(y)\n",
    "    X_test[coin] = x_test\n",
    "    Y_test[coin] = y_test"
   ]
  },
  {
   "cell_type": "code",
   "execution_count": 203,
   "metadata": {
    "collapsed": false
   },
   "outputs": [
    {
     "name": "stdout",
     "output_type": "stream",
     "text": [
      "0\n",
      "train error\n",
      "[0]\teval-error:0.330994\n",
      "test error\n",
      "[0]\teval-error:0.493500\n",
      "1\n",
      "train error\n",
      "[0]\teval-error:0.302294\n",
      "test error\n",
      "[0]\teval-error:0.401500\n",
      "2\n",
      "train error\n",
      "[0]\teval-error:0.333751\n",
      "test error\n",
      "[0]\teval-error:0.488500\n",
      "3\n",
      "train error\n",
      "[0]\teval-error:0.325605\n",
      "test error\n",
      "[0]\teval-error:0.491500\n",
      "4\n",
      "train error\n",
      "[0]\teval-error:0.319213\n",
      "test error\n",
      "[0]\teval-error:0.489500\n",
      "5\n",
      "train error\n",
      "[0]\teval-error:0.279484\n",
      "test error\n",
      "[0]\teval-error:0.337500\n",
      "6\n",
      "train error\n",
      "[0]\teval-error:0.312696\n",
      "test error\n",
      "[0]\teval-error:0.476000\n",
      "7\n",
      "train error\n",
      "[0]\teval-error:0.342775\n",
      "test error\n",
      "[0]\teval-error:0.455500\n",
      "8\n",
      "train error\n",
      "[0]\teval-error:0.315829\n",
      "test error\n",
      "[0]\teval-error:0.477500\n",
      "9\n",
      "train error\n",
      "[0]\teval-error:0.331871\n",
      "test error\n",
      "[0]\teval-error:0.478500\n",
      "10\n",
      "train error\n",
      "[0]\teval-error:0.325103\n",
      "test error\n",
      "[0]\teval-error:0.471500\n"
     ]
    }
   ],
   "source": [
    "preds = {}\n",
    "for i in range(11):\n",
    "    x_train = X_train[i]\n",
    "    y_train = Y_train[i]\n",
    "    x_test = X_test[i]\n",
    "    y_test = Y_test[i]\n",
    "    dtrain = xgb.DMatrix(np.array(x_train),label=np.array(y_train))\n",
    "    if regression is True:\n",
    "        obj = \"reg:linear\"\n",
    "    else:\n",
    "        obj = \"binary:logistic\"\n",
    "    param = {'max_depth':5, 'eta':.5, 'silent':0,'alpha':1,'min_child_weight':5, 'objective':obj }\n",
    "    num_round = 10\n",
    "    bst = xgb.train(param, dtrain, num_round)\n",
    "    print(i)\n",
    "    print(\"train error\")\n",
    "    print(bst.eval(dtrain))\n",
    "    print(\"test error\")\n",
    "    dtest = xgb.DMatrix(np.array(x_test),label=np.array(y_test))\n",
    "    print(bst.eval(dtest))\n",
    "    preds[i] = bst.predict(xgb.DMatrix(np.array(x_test)))"
   ]
  },
  {
   "cell_type": "code",
   "execution_count": 247,
   "metadata": {
    "collapsed": false
   },
   "outputs": [
    {
     "data": {
      "text/plain": [
       "<matplotlib.legend.Legend at 0x115d4ca90>"
      ]
     },
     "execution_count": 247,
     "metadata": {},
     "output_type": "execute_result"
    },
    {
     "data": {
      "image/png": "[encoded data removed]",
      "text/plain": [
       "<Figure size 600x400 with 1 Axes>"
      ]
     },
     "metadata": {},
     "output_type": "display_data"
    }
   ],
   "source": [
    "port = [1]\n",
    "baseline = [1]\n",
    "trading_coins = [5]\n",
    "threshold_short = .2\n",
    "threshold_long = .0\n",
    "returns_boosting = []\n",
    "returns_unif = []\n",
    "status = [\"\" for i in range(11)]\n",
    "for i in range(len(preds[0])):\n",
    "    r = 0\n",
    "    rb = 0\n",
    "    for coin in range(11):\n",
    "        rb += ret[split_index+i,coin] / 11\n",
    "        if coin in trading_coins:\n",
    "            if preds[coin][i] > 0.5 + threshold_long:\n",
    "                if status[coin] == 'long':\n",
    "                    fee = 0\n",
    "                else:\n",
    "                    fee = .0025\n",
    "                r += (ret[split_index+i,coin] - fee )/ len(trading_coins) \n",
    "                status[coin] = 'long'\n",
    "            elif preds[coin][i] <  0.5 - threshold_short:\n",
    "                if status[coin] == \"short\":\n",
    "                    fee = 0\n",
    "                else:\n",
    "                    fee = .0025\n",
    "                r += (-ret[split_index+i,coin] - fee) / len(trading_coins) \n",
    "                status[coin] = 'short'\n",
    "    returns_unif.append(rb)\n",
    "    returns_boosting.append(r)\n",
    "    val = port[-1] * (1+r)\n",
    "    valb = baseline[-1]*(1+rb)\n",
    "    port.append(val)\n",
    "    baseline.append(valb)\n",
    "plt.plot(port,label=\"tree boosting\")\n",
    "plt.plot(baseline,label=\"uniform\")\n",
    "plt.legend()"
   ]
  },
  {
   "cell_type": "code",
   "execution_count": 187,
   "metadata": {
    "collapsed": false
   },
   "outputs": [
    {
     "data": {
      "text/plain": [
       "0.029683821394980308"
      ]
     },
     "execution_count": 187,
     "metadata": {},
     "output_type": "execute_result"
    }
   ],
   "source": [
    "np.mean(returns_unif)/np.std(returns_unif)"
   ]
  },
  {
   "cell_type": "code",
   "execution_count": 227,
   "metadata": {
    "collapsed": false
   },
   "outputs": [
    {
     "data": {
      "text/plain": [
       "0.11364366793134462"
      ]
     },
     "execution_count": 227,
     "metadata": {},
     "output_type": "execute_result"
    }
   ],
   "source": [
    "np.mean(returns_boosting)/np.std(returns_boosting)"
   ]
  },
  {
   "cell_type": "code",
   "execution_count": null,
   "metadata": {
    "collapsed": true
   },
   "outputs": [],
   "source": []
  },
  {
   "cell_type": "code",
   "execution_count": null,
   "metadata": {
    "collapsed": true
   },
   "outputs": [],
   "source": []
  },
  {
   "cell_type": "code",
   "execution_count": null,
   "metadata": {
    "collapsed": true
   },
   "outputs": [],
   "source": []
  }
 ],
 "metadata": {
  "kernelspec": {
   "display_name": "Python 3",
   "language": "python",
   "name": "python3"
  },
  "language_info": {
   "codemirror_mode": {
    "name": "ipython",
    "version": 3
   },
   "file_extension": ".py",
   "mimetype": "text/x-python",
   "name": "python",
   "nbconvert_exporter": "python",
   "pygments_lexer": "ipython3",
   "version": "3.6.3"
  }
 },
 "nbformat": 4,
 "nbformat_minor": 0
}

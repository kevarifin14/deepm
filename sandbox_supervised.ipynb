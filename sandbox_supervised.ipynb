{
 "cells": [
  {
   "cell_type": "code",
   "execution_count": 309,
   "metadata": {
    "collapsed": false
   },
   "outputs": [
    {
     "name": "stdout",
     "output_type": "stream",
     "text": [
      "The autoreload extension is already loaded. To reload it, use:\n",
      "  %reload_ext autoreload\n"
     ]
    }
   ],
   "source": [
    "from markethistory import MarketHistory\n",
    "from constants import * \n",
    "import numpy as np\n",
    "import matplotlib.pyplot as plt\n",
    "import pandas as pd\n",
    "import xgboost as xgb\n",
    "from supervised import *\n",
    "%matplotlib inline\n",
    "%load_ext autoreload\n",
    "%autoreload 2"
   ]
  },
  {
   "cell_type": "markdown",
   "metadata": {},
   "source": [
    "Example"
   ]
  },
  {
   "cell_type": "code",
   "execution_count": 3,
   "metadata": {
    "collapsed": false
   },
   "outputs": [
    {
     "name": "stdout",
     "output_type": "stream",
     "text": [
      "Warning: missing data for following coins ['DASH', 'FCT', 'GNT', 'ZEC']\n"
     ]
    }
   ],
   "source": [
    "start = \"2017/07/27\"\n",
    "end = \"2018/04/20\"\n",
    "data = MarketHistory(start,end)"
   ]
  },
  {
   "cell_type": "code",
   "execution_count": 4,
   "metadata": {
    "collapsed": false
   },
   "outputs": [],
   "source": [
    "data_ = data.data"
   ]
  },
  {
   "cell_type": "code",
   "execution_count": 5,
   "metadata": {
    "collapsed": false
   },
   "outputs": [
    {
     "data": {
      "text/plain": [
       "(3, 11, 12817)"
      ]
     },
     "execution_count": 5,
     "metadata": {},
     "output_type": "execute_result"
    }
   ],
   "source": [
    "data_.shape"
   ]
  },
  {
   "cell_type": "code",
   "execution_count": 276,
   "metadata": {
    "collapsed": true
   },
   "outputs": [],
   "source": []
  },
  {
   "cell_type": "markdown",
   "metadata": {},
   "source": [
    "### Classification"
   ]
  },
  {
   "cell_type": "code",
   "execution_count": 157,
   "metadata": {
    "collapsed": true
   },
   "outputs": [],
   "source": [
    "len_window = 3000\n",
    "prices_trading = data_[0,:,T-len_window:]\n",
    "returns = np.diff(prices_trading,axis=1)\n",
    "ret = (returns / prices_trading[:,:-1]).T"
   ]
  },
  {
   "cell_type": "code",
   "execution_count": 249,
   "metadata": {
    "collapsed": false
   },
   "outputs": [
    {
     "data": {
      "text/plain": [
       "(9999, 11)"
      ]
     },
     "execution_count": 249,
     "metadata": {},
     "output_type": "execute_result"
    }
   ],
   "source": [
    "ret.shape"
   ]
  },
  {
   "cell_type": "code",
   "execution_count": 158,
   "metadata": {
    "collapsed": false
   },
   "outputs": [
    {
     "name": "stdout",
     "output_type": "stream",
     "text": [
      "train error\n",
      "[0]\teval-error:0.268846\n",
      "test error\n",
      "[0]\teval-error:0.450455\n"
     ]
    },
    {
     "data": {
      "text/plain": [
       "[<matplotlib.lines.Line2D at 0x112d51898>]"
      ]
     },
     "execution_count": 158,
     "metadata": {},
     "output_type": "execute_result"
    },
    {
     "data": {
      "image/png": "[encoded data removed]",
      "text/plain": [
       "<Figure size 600x400 with 1 Axes>"
      ]
     },
     "metadata": {},
     "output_type": "display_data"
    }
   ],
   "source": [
    "lookback = 10\n",
    "n = len_window - 1\n",
    "split_index = int(.8*n)\n",
    "x_train = []\n",
    "y_train = []\n",
    "regression = False\n",
    "use_prices = False\n",
    "for i in range(lookback,split_index):\n",
    "    for coin in range(11):\n",
    "        if use_prices is True:\n",
    "            x = np.append(data_[0,coin,i-lookback:i].reshape(-1,),i)\n",
    "        else:\n",
    "            x = np.append(ret[i-lookback:i,coin].reshape(-1,),i)\n",
    "        x_train.append(x)\n",
    "        y = ret[i,coin]\n",
    "        if regression is False:\n",
    "            if y > 0:\n",
    "                y = 1\n",
    "            else:\n",
    "                y = 0\n",
    "        y_train.append(y)\n",
    "x_test = []\n",
    "y_test = []\n",
    "for i in range(split_index,n):\n",
    "    for coin in range(11):\n",
    "        if use_prices is True:\n",
    "            x = np.append(data_[0,coin,i-lookback:i].reshape(-1,),i)\n",
    "        else:\n",
    "            x = np.append(ret[i-lookback:i,coin].reshape(-1,),i)\n",
    "        x_test.append(x)\n",
    "        y = ret[i,coin]\n",
    "        if regression is False:\n",
    "            if y > 0:\n",
    "                y = 1\n",
    "            else:\n",
    "                y = 0\n",
    "        y_test.append(y)\n",
    "dtrain = xgb.DMatrix(np.array(x_train),label=np.array(y_train))\n",
    "if regression is True:\n",
    "    obj = \"reg:linear\"\n",
    "else:\n",
    "    obj = \"binary:logistic\"\n",
    "param = {'max_depth':10, 'eta':.25, 'silent':0,'alpha':1,'min_child_weight':5, 'objective':obj }\n",
    "num_round = 14\n",
    "bst = xgb.train(param, dtrain, num_round)\n",
    "print(\"train error\")\n",
    "print(bst.eval(dtrain))\n",
    "print(\"test error\")\n",
    "dtest = xgb.DMatrix(np.array(x_test),label=np.array(y_test))\n",
    "print(bst.eval(dtest))\n",
    "preds = bst.predict(xgb.DMatrix(np.array(x_test)))\n",
    "port = [1]\n",
    "cutoff = 0.5\n",
    "rs = []\n",
    "for i in range(int(len(preds)/11)):\n",
    "    r = 0\n",
    "    for coin in range(11):\n",
    "        if preds[i] > 0.5:\n",
    "            r += ret[split_index+i,coin] / 11\n",
    "        elif preds[i] <  0.5:\n",
    "            r += -ret[split_index+i,coin] / 11\n",
    "    val = port[-1] * (1+r)\n",
    "    rs.append(r)\n",
    "    port.append(val)\n",
    "plt.plot(port)"
   ]
  },
  {
   "cell_type": "code",
   "execution_count": 329,
   "metadata": {
    "collapsed": false
   },
   "outputs": [
    {
     "data": {
      "text/plain": [
       "0.325"
      ]
     },
     "execution_count": 329,
     "metadata": {},
     "output_type": "execute_result"
    }
   ],
   "source": [
    "float(bst.eval(dtrain)[15:20])"
   ]
  },
  {
   "cell_type": "markdown",
   "metadata": {},
   "source": [
    "#### One model for each coin"
   ]
  },
  {
   "cell_type": "code",
   "execution_count": 160,
   "metadata": {
    "collapsed": false
   },
   "outputs": [],
   "source": [
    "len_window = 10000\n",
    "prices_trading = data_[0,:,T-len_window:T]\n",
    "returns = np.diff(prices_trading,axis=1)\n",
    "ret = (returns / prices_trading[:,:-1]).T\n",
    "lookback = 20\n",
    "n = len_window - 1\n",
    "split_index = int(.8*n)\n",
    "regression = False\n",
    "use_prices = False\n",
    "X_train = {}\n",
    "Y_train = {}\n",
    "for coin in range(11):\n",
    "    x_train = []\n",
    "    y_train = []\n",
    "    for i in range(lookback,split_index):\n",
    "        if use_prices is True:\n",
    "            x = np.append(data_[0,coin,i-lookback:i].reshape(-1,),i)\n",
    "        else:\n",
    "            x = np.append(ret[i-lookback:i,coin].reshape(-1,),i)\n",
    "        x_train.append(x)\n",
    "        y = ret[i,coin]\n",
    "        if regression is False:\n",
    "            if y > 0:\n",
    "                y = 1\n",
    "            else:\n",
    "                y = 0\n",
    "        y_train.append(y)\n",
    "    X_train[coin] = x_train\n",
    "    Y_train[coin] = y_train\n",
    "\n",
    "X_test = {}\n",
    "Y_test = {}\n",
    "for coin in range(11):\n",
    "    x_test = []\n",
    "    y_test = []\n",
    "    for i in range(split_index,n):\n",
    "        if use_prices is True:\n",
    "            x = np.append(data_[0,coin,i-lookback:i].reshape(-1,),i)\n",
    "        else:\n",
    "            x = np.append(ret[i-lookback:i,coin].reshape(-1,),i)\n",
    "        x_test.append(x)\n",
    "        y = ret[i,coin]\n",
    "        if regression is False:\n",
    "            if y > 0:\n",
    "                y = 1\n",
    "            else:\n",
    "                y = 0\n",
    "        y_test.append(y)\n",
    "    X_test[coin] = x_test\n",
    "    Y_test[coin] = y_test"
   ]
  },
  {
   "cell_type": "code",
   "execution_count": 203,
   "metadata": {
    "collapsed": false
   },
   "outputs": [
    {
     "name": "stdout",
     "output_type": "stream",
     "text": [
      "0\n",
      "train error\n",
      "[0]\teval-error:0.330994\n",
      "test error\n",
      "[0]\teval-error:0.493500\n",
      "1\n",
      "train error\n",
      "[0]\teval-error:0.302294\n",
      "test error\n",
      "[0]\teval-error:0.401500\n",
      "2\n",
      "train error\n",
      "[0]\teval-error:0.333751\n",
      "test error\n",
      "[0]\teval-error:0.488500\n",
      "3\n",
      "train error\n",
      "[0]\teval-error:0.325605\n",
      "test error\n",
      "[0]\teval-error:0.491500\n",
      "4\n",
      "train error\n",
      "[0]\teval-error:0.319213\n",
      "test error\n",
      "[0]\teval-error:0.489500\n",
      "5\n",
      "train error\n",
      "[0]\teval-error:0.279484\n",
      "test error\n",
      "[0]\teval-error:0.337500\n",
      "6\n",
      "train error\n",
      "[0]\teval-error:0.312696\n",
      "test error\n",
      "[0]\teval-error:0.476000\n",
      "7\n",
      "train error\n",
      "[0]\teval-error:0.342775\n",
      "test error\n",
      "[0]\teval-error:0.455500\n",
      "8\n",
      "train error\n",
      "[0]\teval-error:0.315829\n",
      "test error\n",
      "[0]\teval-error:0.477500\n",
      "9\n",
      "train error\n",
      "[0]\teval-error:0.331871\n",
      "test error\n",
      "[0]\teval-error:0.478500\n",
      "10\n",
      "train error\n",
      "[0]\teval-error:0.325103\n",
      "test error\n",
      "[0]\teval-error:0.471500\n"
     ]
    }
   ],
   "source": [
    "preds = {}\n",
    "for i in range(11):\n",
    "    x_train = X_train[i]\n",
    "    y_train = Y_train[i]\n",
    "    x_test = X_test[i]\n",
    "    y_test = Y_test[i]\n",
    "    dtrain = xgb.DMatrix(np.array(x_train),label=np.array(y_train))\n",
    "    if regression is True:\n",
    "        obj = \"reg:linear\"\n",
    "    else:\n",
    "        obj = \"binary:logistic\"\n",
    "    param = {'max_depth':5, 'eta':.5, 'silent':0,'alpha':1,'min_child_weight':5, 'objective':obj }\n",
    "    num_round = 10\n",
    "    bst = xgb.train(param, dtrain, num_round)\n",
    "    print(i)\n",
    "    print(\"train error\")\n",
    "    print(bst.eval(dtrain))\n",
    "    print(\"test error\")\n",
    "    dtest = xgb.DMatrix(np.array(x_test),label=np.array(y_test))\n",
    "    print(bst.eval(dtest))\n",
    "    preds[i] = bst.predict(xgb.DMatrix(np.array(x_test)))"
   ]
  },
  {
   "cell_type": "code",
   "execution_count": 247,
   "metadata": {
    "collapsed": false
   },
   "outputs": [
    {
     "data": {
      "text/plain": [
       "<matplotlib.legend.Legend at 0x115d4ca90>"
      ]
     },
     "execution_count": 247,
     "metadata": {},
     "output_type": "execute_result"
    },
    {
     "data": {
      "image/png": "[encoded data removed]",
      "text/plain": [
       "<Figure size 600x400 with 1 Axes>"
      ]
     },
     "metadata": {},
     "output_type": "display_data"
    }
   ],
   "source": [
    "port = [1]\n",
    "baseline = [1]\n",
    "trading_coins = [5]\n",
    "threshold_short = .2\n",
    "threshold_long = .0\n",
    "returns_boosting = []\n",
    "returns_unif = []\n",
    "status = [\"\" for i in range(11)]\n",
    "for i in range(len(preds[0])):\n",
    "    r = 0\n",
    "    rb = 0\n",
    "    for coin in range(11):\n",
    "        rb += ret[split_index+i,coin] / 11\n",
    "        if coin in trading_coins:\n",
    "            if preds[coin][i] > 0.5 + threshold_long:\n",
    "                if status[coin] == 'long':\n",
    "                    fee = 0\n",
    "                else:\n",
    "                    fee = .0025\n",
    "                r += (ret[split_index+i,coin] - fee )/ len(trading_coins) \n",
    "                status[coin] = 'long'\n",
    "            elif preds[coin][i] <  0.5 - threshold_short:\n",
    "                if status[coin] == \"short\":\n",
    "                    fee = 0\n",
    "                else:\n",
    "                    fee = .0025\n",
    "                r += (-ret[split_index+i,coin] - fee) / len(trading_coins) \n",
    "                status[coin] = 'short'\n",
    "    returns_unif.append(rb)\n",
    "    returns_boosting.append(r)\n",
    "    val = port[-1] * (1+r)\n",
    "    valb = baseline[-1]*(1+rb)\n",
    "    port.append(val)\n",
    "    baseline.append(valb)\n",
    "plt.plot(port,label=\"tree boosting\")\n",
    "plt.plot(baseline,label=\"uniform\")\n",
    "plt.legend()"
   ]
  },
  {
   "cell_type": "code",
   "execution_count": 187,
   "metadata": {
    "collapsed": false
   },
   "outputs": [
    {
     "data": {
      "text/plain": [
       "0.029683821394980308"
      ]
     },
     "execution_count": 187,
     "metadata": {},
     "output_type": "execute_result"
    }
   ],
   "source": [
    "np.mean(returns_unif)/np.std(returns_unif)"
   ]
  },
  {
   "cell_type": "code",
   "execution_count": 227,
   "metadata": {
    "collapsed": false
   },
   "outputs": [
    {
     "data": {
      "text/plain": [
       "0.11364366793134462"
      ]
     },
     "execution_count": 227,
     "metadata": {},
     "output_type": "execute_result"
    }
   ],
   "source": [
    "np.mean(returns_boosting)/np.std(returns_boosting)"
   ]
  },
  {
   "cell_type": "code",
   "execution_count": 240,
   "metadata": {
    "collapsed": false
   },
   "outputs": [
    {
     "data": {
      "text/plain": [
       "-0.00024966021814054986"
      ]
     },
     "execution_count": 240,
     "metadata": {},
     "output_type": "execute_result"
    }
   ],
   "source": [
    "np.mean(returns_boosting)"
   ]
  },
  {
   "cell_type": "code",
   "execution_count": 234,
   "metadata": {
    "collapsed": false
   },
   "outputs": [
    {
     "data": {
      "text/plain": [
       "0.634"
      ]
     },
     "execution_count": 234,
     "metadata": {},
     "output_type": "execute_result"
    }
   ],
   "source": [
    "np.sum(np.array(returns_boosting)==0)/len(returns_boosting)"
   ]
  },
  {
   "cell_type": "code",
   "execution_count": 245,
   "metadata": {
    "collapsed": false
   },
   "outputs": [
    {
     "data": {
      "text/plain": [
       "array([0.37217602, 0.2493294 , 0.34191307, ..., 0.5072349 , 0.35098737,\n",
       "       0.42038405], dtype=float32)"
      ]
     },
     "execution_count": 245,
     "metadata": {},
     "output_type": "execute_result"
    }
   ],
   "source": [
    "preds[5]"
   ]
  },
  {
   "cell_type": "code",
   "execution_count": 331,
   "metadata": {
    "collapsed": false
   },
   "outputs": [
    {
     "name": "stdout",
     "output_type": "stream",
     "text": [
      "a\n",
      "next\n",
      "b\n",
      "next\n"
     ]
    }
   ],
   "source": [
    "d = {\"a\":1,\"b\":2}\n",
    "for k in d:\n",
    "    print(k)\n",
    "    #print(v)\n",
    "    print(\"next\")"
   ]
  },
  {
   "cell_type": "code",
   "execution_count": null,
   "metadata": {
    "collapsed": true
   },
   "outputs": [],
   "source": []
  },
  {
   "cell_type": "code",
   "execution_count": null,
   "metadata": {
    "collapsed": true
   },
   "outputs": [],
   "source": []
  },
  {
   "cell_type": "code",
   "execution_count": null,
   "metadata": {
    "collapsed": true
   },
   "outputs": [],
   "source": []
  }
 ],
 "metadata": {
  "kernelspec": {
   "display_name": "Python 3",
   "language": "python",
   "name": "python3"
  },
  "language_info": {
   "codemirror_mode": {
    "name": "ipython",
    "version": 3
   },
   "file_extension": ".py",
   "mimetype": "text/x-python",
   "name": "python",
   "nbconvert_exporter": "python",
   "pygments_lexer": "ipython3",
   "version": "3.6.3"
  }
 },
 "nbformat": 4,
 "nbformat_minor": 0
}

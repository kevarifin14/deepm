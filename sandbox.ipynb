{
 "cells": [
  {
   "cell_type": "code",
   "execution_count": 1,
   "metadata": {
    "collapsed": true
   },
   "outputs": [],
   "source": [
    "from markethistory import MarketHistory\n",
    "from constants import * "
   ]
  },
  {
   "cell_type": "code",
   "execution_count": 3,
   "metadata": {
    "collapsed": false
   },
   "outputs": [],
   "source": [
    "markethistory = MarketHistory(START_UTIME, END_UTIME)"
   ]
  },
  {
   "cell_type": "code",
   "execution_count": 8,
   "metadata": {
    "collapsed": false
   },
   "outputs": [
    {
     "data": {
      "text/plain": [
       "(3, 15, 50)"
      ]
     },
     "execution_count": 8,
     "metadata": {},
     "output_type": "execute_result"
    }
   ],
   "source": [
    "markethistory.df[:, :, 0:50].shape"
   ]
  },
  {
   "cell_type": "code",
   "execution_count": 9,
   "metadata": {
    "collapsed": false
   },
   "outputs": [
    {
     "data": {
      "text/plain": [
       "(3, 15, 50)"
      ]
     },
     "execution_count": 9,
     "metadata": {},
     "output_type": "execute_result"
    }
   ],
   "source": [
    "markethistory.df[:, :, 0:50].shape"
   ]
  },
  {
   "cell_type": "code",
   "execution_count": 10,
   "metadata": {
    "collapsed": true
   },
   "outputs": [],
   "source": [
    "import numpy as np"
   ]
  },
  {
   "cell_type": "code",
   "execution_count": 22,
   "metadata": {
    "collapsed": false
   },
   "outputs": [
    {
     "name": "stdout",
     "output_type": "stream",
     "text": [
      "11\n",
      "22\n",
      "1\n",
      "6\n",
      "13\n",
      "3\n",
      "2\n",
      "8\n",
      "2\n",
      "7\n",
      "26\n",
      "6\n",
      "12\n",
      "12\n",
      "6\n",
      "6\n",
      "7\n",
      "1\n",
      "17\n",
      "8\n",
      "6\n",
      "2\n",
      "2\n",
      "13\n",
      "11\n",
      "12\n",
      "28\n",
      "2\n",
      "31\n",
      "3\n",
      "7\n",
      "3\n",
      "15\n",
      "11\n",
      "1\n",
      "12\n",
      "19\n",
      "1\n",
      "8\n",
      "1\n",
      "8\n",
      "12\n",
      "6\n",
      "14\n",
      "5\n",
      "2\n",
      "24\n",
      "5\n",
      "4\n",
      "5\n",
      "12\n",
      "13\n",
      "15\n",
      "22\n",
      "19\n",
      "1\n",
      "4\n",
      "8\n",
      "12\n",
      "7\n",
      "5\n",
      "5\n",
      "4\n",
      "9\n",
      "3\n",
      "12\n",
      "18\n",
      "20\n",
      "19\n",
      "7\n",
      "3\n",
      "6\n",
      "2\n",
      "4\n",
      "7\n",
      "17\n",
      "23\n",
      "4\n",
      "1\n",
      "3\n",
      "1\n",
      "6\n",
      "18\n",
      "14\n",
      "1\n",
      "2\n",
      "2\n",
      "2\n",
      "3\n",
      "10\n",
      "3\n",
      "4\n",
      "18\n",
      "11\n",
      "1\n",
      "2\n",
      "15\n",
      "19\n",
      "21\n",
      "50\n"
     ]
    }
   ],
   "source": [
    "for i in range(100):\n",
    "    print(np.random.geometric(0.1))"
   ]
  },
  {
   "cell_type": "code",
   "execution_count": null,
   "metadata": {
    "collapsed": true
   },
   "outputs": [],
   "source": []
  },
  {
   "cell_type": "code",
   "execution_count": null,
   "metadata": {
    "collapsed": true
   },
   "outputs": [],
   "source": []
  }
 ],
 "metadata": {
  "kernelspec": {
   "display_name": "Python [default]",
   "language": "python",
   "name": "python3"
  },
  "language_info": {
   "codemirror_mode": {
    "name": "ipython",
    "version": 3
   },
   "file_extension": ".py",
   "mimetype": "text/x-python",
   "name": "python",
   "nbconvert_exporter": "python",
   "pygments_lexer": "ipython3",
   "version": "3.5.2"
  }
 },
 "nbformat": 4,
 "nbformat_minor": 0
}

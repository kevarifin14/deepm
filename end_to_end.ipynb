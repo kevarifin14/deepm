{
 "cells": [
  {
   "cell_type": "code",
   "execution_count": 1,
   "metadata": {},
   "outputs": [
    {
     "data": {
      "application/javascript": [
       "$('.nbp-app-bar').toggle()"
      ],
      "text/plain": [
       "<IPython.core.display.Javascript object>"
      ]
     },
     "metadata": {},
     "output_type": "display_data"
    }
   ],
   "source": [
    "%%javascript\n",
    "$('.nbp-app-bar').toggle()"
   ]
  },
  {
   "cell_type": "code",
   "execution_count": 2,
   "metadata": {},
   "outputs": [],
   "source": [
    "import torch\n",
    "import torch.nn as nn\n",
    "import torch.nn.functional as F\n",
    "import numpy as np\n",
    "import matplotlib.pyplot as plt\n",
    "\n",
    "from markethistory import *"
   ]
  },
  {
   "cell_type": "code",
   "execution_count": 3,
   "metadata": {},
   "outputs": [],
   "source": [
    "BATCH_SIZE = 109\n",
    "NUM_FEATURE = 3\n",
    "NUM_ASSET = 12\n",
    "OBS_WINDOW = 31\n",
    "\n",
    "EPISODE_WINDOW = 31\n",
    "\n",
    "TXN_FEE = 0.0025\n",
    "SAMPLING_BIAS = 1.5e-3 # This number needs to be carefully chosen."
   ]
  },
  {
   "cell_type": "code",
   "execution_count": 30,
   "metadata": {},
   "outputs": [
    {
     "data": {
      "image/png": "[encoded data removed]",
      "text/plain": [
       "<Figure size 432x288 with 1 Axes>"
      ]
     },
     "metadata": {},
     "output_type": "display_data"
    },
    {
     "name": "stdout",
     "output_type": "stream",
     "text": [
      "mean:  2395.246\n",
      "std:  641.866515316\n"
     ]
    }
   ],
   "source": [
    "# Find a good SAMPLING_BIAS\n",
    "\n",
    "def sample(start, end, bias):\n",
    "    \"\"\"\n",
    "    Geometrically sample a number in [START, END)\n",
    "    \n",
    "    Input:\n",
    "    - start: the start (inclusive)\n",
    "    - end: the end (exclusive)\n",
    "    - bias: a number between 0 to 1. The closer the bias to 1, the more\n",
    "      likely to generate a sample closer to END.\n",
    "    \"\"\"\n",
    "    offset = np.random.geometric(bias)\n",
    "    return max(end - offset, start)\n",
    "\n",
    "start, end = 50, 3060 # end is the total time length of training data\n",
    "data = [sample(start, end, 1.5e-3) for _ in range(2000)]\n",
    "plt.hist(data, 40)\n",
    "plt.axis([start, end, 0, 500])\n",
    "plt.show()\n",
    "print(\"mean: \", np.mean(data))\n",
    "print(\"std: \", np.std(data))"
   ]
  },
  {
   "cell_type": "markdown",
   "metadata": {},
   "source": [
    "#### Read price history from database"
   ]
  },
  {
   "cell_type": "code",
   "execution_count": 4,
   "metadata": {},
   "outputs": [
    {
     "name": "stdout",
     "output_type": "stream",
     "text": [
      "Warning: missing data for following coins ['DASH', 'FCT', 'GNT', 'ZEC']\n"
     ]
    }
   ],
   "source": [
    "start = '2018/01/20'\n",
    "end = '2018/04/20'\n",
    "markethistory = MarketHistory(start, end)"
   ]
  },
  {
   "cell_type": "markdown",
   "metadata": {},
   "source": [
    "#### Add constant cash (BTC) price info"
   ]
  },
  {
   "cell_type": "code",
   "execution_count": 97,
   "metadata": {},
   "outputs": [
    {
     "name": "stdout",
     "output_type": "stream",
     "text": [
      "Global data tensor shape: (3, 12, 4319)\n"
     ]
    }
   ],
   "source": [
    "data_global = markethistory.data\n",
    "num_feature, num_asset, T = data_global.shape\n",
    "btc_price_tensor = np.ones((num_feature, 1, T))\n",
    "data_global = np.concatenate((btc_price_tensor, data_global), axis=1)\n",
    "print(\"Global data tensor shape:\", data_global.shape)"
   ]
  },
  {
   "cell_type": "markdown",
   "metadata": {},
   "source": [
    "#### Split data into train, validataion, test"
   ]
  },
  {
   "cell_type": "code",
   "execution_count": 98,
   "metadata": {},
   "outputs": [
    {
     "name": "stdout",
     "output_type": "stream",
     "text": [
      "Training data tensor shape:    torch.Size([3, 12, 3025])\n",
      "Validation data tensor shape:  torch.Size([3, 12, 863])\n",
      "Testing data tensor shape:     torch.Size([3, 12, 431])\n"
     ]
    }
   ],
   "source": [
    "T_test = int(0.1 * T)\n",
    "T_valid = int(0.2 * T)\n",
    "T_train = T - T_test - T_valid\n",
    "\n",
    "data_global = torch.tensor(data_global, dtype=torch.float)\n",
    "data_train = data_global[:, :, :T_train]\n",
    "data_valid = data_global[:, :, T_train:T_train+T_valid]\n",
    "data_test = data_global[:, :, T_train+T_valid:]\n",
    "print(\"Training data tensor shape:   \", data_train.shape)\n",
    "print(\"Validation data tensor shape: \", data_valid.shape)\n",
    "print(\"Testing data tensor shape:    \", data_test.shape)"
   ]
  },
  {
   "cell_type": "markdown",
   "metadata": {},
   "source": [
    "#### Define Policy"
   ]
  },
  {
   "cell_type": "code",
   "execution_count": 99,
   "metadata": {},
   "outputs": [],
   "source": [
    "class DecisionNetwork_CNN(nn.Module):\n",
    "    \"\"\"\n",
    "    An EIIE style decision network implemented with CNN without separate\n",
    "    cash bias.\n",
    "    \"\"\"\n",
    "    \n",
    "    def __init__(self):\n",
    "        super(DecisionNetwork_CNN, self).__init__()\n",
    "        self.conv1 = nn.Conv2d(in_channels=NUM_FEATURE, \n",
    "                               out_channels=3, #2 \n",
    "                               kernel_size=[1,2]) # can also use [1,3]\n",
    "        self.conv2 = nn.Conv2d(in_channels=3, \n",
    "                               out_channels=10, # can also use 10\n",
    "                               kernel_size=[1, OBS_WINDOW-1])\n",
    "        self.conv3 = nn.Conv2d(in_channels=11, \n",
    "                               out_channels=1, \n",
    "                               kernel_size=[1, 1])\n",
    "        \n",
    "    def forward(self, obs, prev_pf_w):\n",
    "        \"\"\"\n",
    "        Compute the forward pass. \n",
    "        \n",
    "        Input:\n",
    "        - obs: A fresh observation of the market environment at the current time step.\n",
    "          A tensor of shape [BATCH_SIZE, NUM_FEATURE, NUM_ASSET, OBS_WINDOW].\n",
    "        - prev_pf_w: The portfolio weight vector in the previous time step. A tensor\n",
    "          of shape [BATCH_SIZE, NUM_ASSET].\n",
    "        \n",
    "        Returns:\n",
    "        - new_pf_w: The new portfolio weight vector for the current time step. A tensor\n",
    "          of shape [BATCH_SIZE, NUM_ASSET]\n",
    "        \"\"\"\n",
    "        scores = nn.ReLU()(self.conv1(obs))\n",
    "        scores = nn.ReLU()(self.conv2(scores))\n",
    "        scores = torch.cat([scores, prev_pf_w.view(BATCH_SIZE, 1, NUM_ASSET, 1)], dim=1)\n",
    "        scores = self.conv3(scores).squeeze()\n",
    "        \n",
    "        new_pf_w = F.softmax(scores, dim=1)\n",
    "        return new_pf_w"
   ]
  },
  {
   "cell_type": "markdown",
   "metadata": {},
   "source": [
    "#### Define helper functions for training"
   ]
  },
  {
   "cell_type": "code",
   "execution_count": 100,
   "metadata": {},
   "outputs": [],
   "source": [
    "def sample(start, end, bias):\n",
    "    \"\"\"\n",
    "    Geometrically sample a number in [START, END)\n",
    "    \n",
    "    Input:\n",
    "    - start: the start (inclusive)\n",
    "    - end: the end (exclusive)\n",
    "    - bias: a number between 0 to 1. The closer the bias to 1, the more\n",
    "      likely to generate a sample closer to END.\n",
    "    \"\"\"\n",
    "    offset = np.random.geometric(bias)\n",
    "    return max(end - offset, start)\n",
    "\n",
    "def sample_batch(batch_size, start, end, bias):\n",
    "    \"\"\"\n",
    "    Sample a batch of numbers geometrically distributed in [START, END)\n",
    "    \"\"\"\n",
    "    return torch.tensor([sample(start, end, bias) for _ in range(batch_size)])\n",
    "\n",
    "def get_observation(end_t_batch, history):\n",
    "    \"\"\"\n",
    "    Get a batch of price history of length OBS_WINDOW, ending at END_T_BATCH (inclusive).\n",
    "    \n",
    "    Input:\n",
    "    - end_t_batch: The end time indices of this observation. Shape: [BATCH_SIZE].\n",
    "    - history: The price history tensor of shape [NUM_FEATURE, NUM_ASSET, T]\n",
    "    \n",
    "    Returns:\n",
    "    - obs: A torch tensor of shape [BATCH_SIZE, NUM_FEATURE, NUM_ASSET, OBS_WINDOW]\n",
    "    \"\"\"\n",
    "    obs = []\n",
    "    for offset in range(OBS_WINDOW-1, -1, -1):\n",
    "        t_batch = end_t_batch - offset\n",
    "        observation = history[:, :, t_batch].permute(2, 0, 1)\n",
    "        obs.append(observation)\n",
    "    obs = torch.stack(obs, dim=-1)\n",
    "    \n",
    "    # normalize each asset's prices by its lastest closing prices\n",
    "    last_close_prices = obs[:, 0, :, -1]\n",
    "    tmp = obs.permute([1, 3, 0, 2]) / last_close_prices\n",
    "    obs = tmp.permute([2, 0, 3, 1])\n",
    "    \n",
    "    return obs\n",
    "\n",
    "def calculate_shrinkage(w, w_prev):\n",
    "    \"\"\"\n",
    "    Calculate the porfolio value shrinkage during a portfolio weight re-allocation due\n",
    "    to transaction fees.\n",
    "    This function calculates the shrinkage using an iterative approximation method. See\n",
    "    equation (14) of the Deep Portfolio Management paper. \n",
    "    \n",
    "    Input:\n",
    "    - w: Target portfolio weight tensor of shape [BATCH_SIZE, NUM_ASSET]\n",
    "    - w_prev: Previous portfolio weight tensor of shape [BATCH_SIZE, NUM_ASSET]\n",
    "    \n",
    "    Returns:\n",
    "    - shrinkage: Portfolio value shrinkage multipler tensor of shape [BATCH_SIZE]\n",
    "    \"\"\"\n",
    "    w0_0, w0_m = w_prev[:, 0], w_prev[:, 1:]\n",
    "    w1_0, w1_m = w[:, 0], w[:, 1:]\n",
    "    \n",
    "    const1 = 1 - TXN_FEE * w0_0\n",
    "    const2 = 2 * TXN_FEE - TXN_FEE ** 2\n",
    "    const3 = 1 - TXN_FEE * w1_0\n",
    "    \n",
    "    u = TXN_FEE * torch.sum(torch.abs(w0_m - w1_m))\n",
    "    w1_m_T = w1_m.transpose(0, 1)\n",
    "    while True:\n",
    "        u_next = (const1 - const2*torch.sum(F.relu(w0_m - (u*w1_m_T).transpose(0,1)), dim=1)) / const3\n",
    "        max_diff = torch.max(torch.abs(u - u_next))\n",
    "        if max_diff <= 1e-10:\n",
    "            return u_next\n",
    "        u = u_next"
   ]
  },
  {
   "cell_type": "markdown",
   "metadata": {},
   "source": [
    "#### Define training"
   ]
  },
  {
   "cell_type": "code",
   "execution_count": 101,
   "metadata": {},
   "outputs": [],
   "source": [
    "# TODO: instaed of fixed window size, try randomized window size\n",
    "# TODO: modify data matrix so that it includes a row of 1 for Cash\n",
    "# TODO: think of better way to initialize the initial pf weights\n",
    "\n",
    "def train(policy, data, lr=1e-3, episodes=10000):\n",
    "    optimizer = torch.optim.Adam(policy.parameters(), lr=lr)\n",
    "    T = data.shape[-1]\n",
    "    \n",
    "    for i in range(episodes):\n",
    "        # geometrically sample start times: [batch]\n",
    "        start_indices = sample_batch(BATCH_SIZE, OBS_WINDOW, T-EPISODE_WINDOW, SAMPLING_BIAS)\n",
    "        # initialize portfolio weights: [batch, asset]\n",
    "        pf_w = (torch.ones(NUM_ASSET) / NUM_ASSET).repeat(BATCH_SIZE, 1)\n",
    "        # initialize portfolio values: [batch]\n",
    "        pf_v = torch.ones(BATCH_SIZE)\n",
    "        \n",
    "        # simulate one episode of live trading with the policy\n",
    "        loss = 0\n",
    "        price_curr = data[0, :, start_indices].transpose(0, 1) # [batch, asset]\n",
    "        for t in range(0, EPISODE_WINDOW):\n",
    "            price_next = data[0, :, start_indices+t+1].transpose(0, 1) # [batch, asset]\n",
    "            obs = get_observation(start_indices+t, data)\n",
    "            \n",
    "            pf_w_t_start = policy.forward(obs, pf_w)\n",
    "            shrinkage = calculate_shrinkage(pf_w_t_start, pf_w)\n",
    "            pf_v_t_start = pf_v * shrinkage\n",
    "            \n",
    "            w_tmp = (price_next / price_curr) * pf_w_t_start # [batch, asset]\n",
    "            w_tmp_sum = torch.sum(w_tmp, dim=1) # [batch]\n",
    "            pf_v_t_end = w_tmp_sum * pf_v_t_start\n",
    "            pf_w_t_end = w_tmp / w_tmp_sum.view(BATCH_SIZE, 1)\n",
    "            \n",
    "            batch_reward = torch.log(pf_v_t_end / pf_v)\n",
    "            loss -= torch.sum(batch_reward) / BATCH_SIZE\n",
    "            \n",
    "            # update variables\n",
    "            pf_w = pf_w_t_end\n",
    "            pf_v = pf_v_t_end\n",
    "            price_curr = price_next\n",
    "        #loss /= EPISODE_WINDOW\n",
    "        \n",
    "        if i % 10  == 0:\n",
    "            print(\"episode\", i, \" loss:\", float(loss))\n",
    "        \n",
    "        optimizer.zero_grad()\n",
    "        loss.backward()\n",
    "        optimizer.step()"
   ]
  },
  {
   "cell_type": "markdown",
   "metadata": {},
   "source": [
    "# THE REAL DEAL"
   ]
  },
  {
   "cell_type": "code",
   "execution_count": 102,
   "metadata": {},
   "outputs": [],
   "source": [
    "policy = DecisionNetwork_CNN()"
   ]
  },
  {
   "cell_type": "code",
   "execution_count": 103,
   "metadata": {},
   "outputs": [
    {
     "name": "stdout",
     "output_type": "stream",
     "text": [
      "episode 0  loss: 0.0029551482293754816\n",
      "episode 10  loss: 0.003003244288265705\n",
      "episode 20  loss: 0.004165754187852144\n",
      "episode 30  loss: 0.002874894766137004\n",
      "episode 40  loss: 0.003576502436771989\n",
      "episode 50  loss: 0.005783560685813427\n",
      "episode 60  loss: 0.0027761817909777164\n",
      "episode 70  loss: 0.0044067613780498505\n",
      "episode 80  loss: 0.0014017545618116856\n",
      "episode 90  loss: 0.004671019967645407\n",
      "episode 100  loss: 0.002409137086942792\n",
      "episode 110  loss: 0.0032139974646270275\n",
      "episode 120  loss: 0.002336036879569292\n",
      "episode 130  loss: 0.004934850614517927\n",
      "episode 140  loss: 0.006543042603880167\n",
      "episode 150  loss: 0.0024792987387627363\n",
      "episode 160  loss: 0.004526783712208271\n",
      "episode 170  loss: 0.002908544149249792\n",
      "episode 180  loss: 0.0035550445318222046\n",
      "episode 190  loss: 0.003895254572853446\n",
      "episode 200  loss: 0.004171337001025677\n",
      "episode 210  loss: 0.0026458639185875654\n",
      "episode 220  loss: 0.002868740586563945\n",
      "episode 230  loss: 0.005587816704064608\n",
      "episode 240  loss: 0.009345266036689281\n",
      "episode 250  loss: 0.0041807424277067184\n",
      "episode 260  loss: 0.006513345520943403\n",
      "episode 270  loss: 0.003360247239470482\n",
      "episode 280  loss: 0.004472922533750534\n",
      "episode 290  loss: 0.002493270207196474\n",
      "episode 300  loss: -0.00043213943718001246\n",
      "episode 310  loss: -0.002150649903342128\n",
      "episode 320  loss: 0.0008530642953701317\n",
      "episode 330  loss: 0.004320146050304174\n",
      "episode 340  loss: 0.002334695076569915\n",
      "episode 350  loss: 0.002790307393297553\n",
      "episode 360  loss: 0.002455060835927725\n",
      "episode 370  loss: 0.005229967646300793\n",
      "episode 380  loss: 0.0018763005500659347\n",
      "episode 390  loss: 0.004311030730605125\n",
      "episode 400  loss: 0.0037278870586305857\n",
      "episode 410  loss: 0.00455497344955802\n",
      "episode 420  loss: 0.0052423239685595036\n",
      "episode 430  loss: 0.006904550828039646\n",
      "episode 440  loss: 0.004240386188030243\n",
      "episode 450  loss: 0.004839591681957245\n",
      "episode 460  loss: 0.005718642845749855\n",
      "episode 470  loss: 0.002330743707716465\n",
      "episode 480  loss: 0.004761042073369026\n",
      "episode 490  loss: 0.002467693528160453\n",
      "episode 500  loss: 0.004177955910563469\n",
      "episode 510  loss: 0.0034627842251211405\n",
      "episode 520  loss: 0.004772065673023462\n",
      "episode 530  loss: 0.004800216760486364\n",
      "episode 540  loss: 0.004115281626582146\n",
      "episode 550  loss: 0.005306979641318321\n",
      "episode 560  loss: 0.005070522427558899\n",
      "episode 570  loss: 0.0036832126788794994\n",
      "episode 580  loss: 0.005619427189230919\n",
      "episode 590  loss: 0.004972611553966999\n",
      "episode 600  loss: 0.0024199567269533873\n",
      "episode 610  loss: 0.003869946114718914\n",
      "episode 620  loss: -0.0004205312579870224\n",
      "episode 630  loss: 0.003952879458665848\n",
      "episode 640  loss: 0.004360714461654425\n",
      "episode 650  loss: 0.004817742854356766\n",
      "episode 660  loss: 0.0013639903627336025\n",
      "episode 670  loss: 0.0037715607322752476\n",
      "episode 680  loss: 0.00510172825306654\n",
      "episode 690  loss: 0.0011745375813916326\n",
      "episode 700  loss: 0.001428194111213088\n",
      "episode 710  loss: 0.00250710966065526\n",
      "episode 720  loss: 0.005400907248258591\n",
      "episode 730  loss: 0.00457457359880209\n",
      "episode 740  loss: 0.0038307986687868834\n",
      "episode 750  loss: 0.004276707302778959\n",
      "episode 760  loss: 0.0028034020215272903\n",
      "episode 770  loss: 0.004319288302212954\n",
      "episode 780  loss: 0.008994640782475471\n",
      "episode 790  loss: 0.004713885020464659\n",
      "episode 800  loss: 0.003161920001730323\n",
      "episode 810  loss: 0.004078905563801527\n",
      "episode 820  loss: 0.0031687456648796797\n",
      "episode 830  loss: 0.0030060592107474804\n",
      "episode 840  loss: 0.0035518473014235497\n",
      "episode 850  loss: 0.0015193106373772025\n",
      "episode 860  loss: 0.003798547899350524\n",
      "episode 870  loss: 0.0030844812281429768\n",
      "episode 880  loss: 0.004905969835817814\n",
      "episode 890  loss: 0.004383190535008907\n",
      "episode 900  loss: 0.00392576539888978\n",
      "episode 910  loss: 0.0032898408826440573\n",
      "episode 920  loss: 0.007914887741208076\n",
      "episode 930  loss: 0.0035714691039174795\n",
      "episode 940  loss: 0.0018998642917722464\n",
      "episode 950  loss: 0.001556446310132742\n",
      "episode 960  loss: 0.004062310792505741\n",
      "episode 970  loss: 0.0017707282677292824\n",
      "episode 980  loss: 0.003164932830259204\n",
      "episode 990  loss: 0.0023416997864842415\n"
     ]
    }
   ],
   "source": [
    "train(policy, data_train, lr=1e-3, episodes=1000)"
   ]
  },
  {
   "cell_type": "code",
   "execution_count": 54,
   "metadata": {},
   "outputs": [],
   "source": [
    "def get_obs(end_t, history):\n",
    "    obs = []\n",
    "    last_close = history[0, :, end_t]\n",
    "    for t in range(end_t - OBS_WINDOW + 1, end_t+1):\n",
    "        observation = history[:, :, t] / last_close\n",
    "        obs.append(observation)\n",
    "    obs = torch.stack(obs, dim=-1)\n",
    "    return obs\n",
    "\n",
    "def calc_mu(w, w_prev):\n",
    "    w0_0, w0_m = w_prev[0], w_prev[1:]\n",
    "    w1_0, w1_m = w[0], w[1:]\n",
    "    \n",
    "    const1 = 1 - TXN_FEE * w0_0\n",
    "    const2 = 2 * TXN_FEE - TXN_FEE ** 2\n",
    "    const3 = 1 - TXN_FEE * w1_0\n",
    "    \n",
    "    u = TXN_FEE * torch.sum(torch.abs(w0_m - w1_m))\n",
    "    while True:\n",
    "        u_next = (const1 - const2*torch.sum(F.relu(w0_m - u*w1_m))) / const3\n",
    "        if torch.abs(u - u_next) <= 1e-10:\n",
    "            return u_next\n",
    "        u = u_next"
   ]
  },
  {
   "cell_type": "code",
   "execution_count": 105,
   "metadata": {},
   "outputs": [],
   "source": [
    "def backtest(policy, data):\n",
    "    # data := [feat, asset, T]\n",
    "    T = data.shape[-1]\n",
    "    \n",
    "    start_indices = torch.tensor([0 for _ in range(BATCH_SIZE)])\n",
    "    pf_w = torch.tensor([1.,0.,0.,0.,0.,0.,0.,0.,0.,0.,0.,0.]).repeat(BATCH_SIZE, 1)\n",
    "    pf_v = torch.ones(BATCH_SIZE)\n",
    "    \n",
    "    price_curr = data[0, :, start_indices].transpose(0, 1) # [batch, asset]\n",
    "    \n",
    "    pv_list = []\n",
    "    for t in range(0, T-1):\n",
    "        pv_list.append(float(pf_v[0]))\n",
    "        \n",
    "        price_next = data[0, :, start_indices+t+1].transpose(0, 1) # [batch, asset]\n",
    "        obs = get_observation(start_indices+t, data)\n",
    "\n",
    "        pf_w_t_start = policy.forward(obs, pf_w)\n",
    "        shrinkage = calculate_shrinkage(pf_w_t_start, pf_w)\n",
    "        pf_v_t_start = pf_v * shrinkage\n",
    "\n",
    "        w_tmp = (price_next / price_curr) * pf_w_t_start # [batch, asset]\n",
    "        w_tmp_sum = torch.sum(w_tmp, dim=1) # [batch]\n",
    "        pf_v_t_end = w_tmp_sum * pf_v_t_start\n",
    "        pf_w_t_end = w_tmp / w_tmp_sum.view(BATCH_SIZE, 1)\n",
    "\n",
    "        #batch_reward = torch.log(pf_v_t_end / pf_v)\n",
    "        #loss -= torch.sum(batch_reward) / BATCH_SIZE\n",
    "\n",
    "        # update variables\n",
    "        pf_w = pf_w_t_end\n",
    "        pf_v = pf_v_t_end\n",
    "        price_curr = price_next\n",
    "    return pv_list"
   ]
  },
  {
   "cell_type": "code",
   "execution_count": 106,
   "metadata": {},
   "outputs": [],
   "source": [
    "pv_train1 = backtest(policy, data_train)\n",
    "pv_valid1 = backtest(policy, data_valid)"
   ]
  },
  {
   "cell_type": "code",
   "execution_count": 107,
   "metadata": {},
   "outputs": [
    {
     "data": {
      "text/plain": [
       "[<matplotlib.lines.Line2D at 0x1159b3f60>]"
      ]
     },
     "execution_count": 107,
     "metadata": {},
     "output_type": "execute_result"
    },
    {
     "data": {
      "image/png": "[encoded data removed]",
      "text/plain": [
       "<Figure size 432x288 with 1 Axes>"
      ]
     },
     "metadata": {},
     "output_type": "display_data"
    }
   ],
   "source": [
    "plt.plot(pv_train1)"
   ]
  },
  {
   "cell_type": "code",
   "execution_count": 108,
   "metadata": {},
   "outputs": [
    {
     "data": {
      "text/plain": [
       "[<matplotlib.lines.Line2D at 0x115a79b00>]"
      ]
     },
     "execution_count": 108,
     "metadata": {},
     "output_type": "execute_result"
    },
    {
     "data": {
      "image/png": "[encoded data removed]",
      "text/plain": [
       "<Figure size 432x288 with 1 Axes>"
      ]
     },
     "metadata": {},
     "output_type": "display_data"
    }
   ],
   "source": [
    "plt.plot(pv_valid1)"
   ]
  },
  {
   "cell_type": "code",
   "execution_count": 109,
   "metadata": {},
   "outputs": [
    {
     "name": "stdout",
     "output_type": "stream",
     "text": [
      "9.07833095846 82.6715202728\n"
     ]
    }
   ],
   "source": [
    "mean_train = np.mean(pv_train1)\n",
    "mean_valid = np.mean(pv_valid1)\n",
    "std_train = np.std(pv_train1)\n",
    "std_valid = np.std(pv_valid1)\n",
    "\n",
    "sharpe_train = mean_train / std_train\n",
    "sharpe_valid = mean_valid / std_valid\n",
    "print(sharpe_train, sharpe_valid)"
   ]
  },
  {
   "cell_type": "code",
   "execution_count": 92,
   "metadata": {},
   "outputs": [
    {
     "data": {
      "text/plain": [
       "[<matplotlib.lines.Line2D at 0x117778390>]"
      ]
     },
     "execution_count": 92,
     "metadata": {},
     "output_type": "execute_result"
    },
    {
     "data": {
      "image/png": "[encoded data removed]",
      "text/plain": [
       "<Figure size 432x288 with 1 Axes>"
      ]
     },
     "metadata": {},
     "output_type": "display_data"
    }
   ],
   "source": [
    "plt.plot(pv_train)"
   ]
  },
  {
   "cell_type": "code",
   "execution_count": 93,
   "metadata": {},
   "outputs": [
    {
     "data": {
      "text/plain": [
       "[<matplotlib.lines.Line2D at 0x117ee1748>]"
      ]
     },
     "execution_count": 93,
     "metadata": {},
     "output_type": "execute_result"
    },
    {
     "data": {
      "image/png": "[encoded data removed]",
      "text/plain": [
       "<Figure size 432x288 with 1 Axes>"
      ]
     },
     "metadata": {},
     "output_type": "display_data"
    }
   ],
   "source": [
    "plt.plot(pv_valid)"
   ]
  },
  {
   "cell_type": "code",
   "execution_count": 104,
   "metadata": {},
   "outputs": [
    {
     "name": "stdout",
     "output_type": "stream",
     "text": [
      "2.42545151294 5.07818424946\n"
     ]
    }
   ],
   "source": [
    "mean_train = np.mean(pv_train)\n",
    "mean_valid = np.mean(pv_valid)\n",
    "std_train = np.std(pv_train)\n",
    "std_valid = np.std(pv_valid)\n",
    "\n",
    "sharpe_train = mean_train / std_train\n",
    "sharpe_valid = mean_valid / std_valid\n",
    "print(sharpe_train, sharpe_valid)"
   ]
  },
  {
   "cell_type": "code",
   "execution_count": null,
   "metadata": {},
   "outputs": [],
   "source": []
  }
 ],
 "metadata": {
  "kernelspec": {
   "display_name": "Python [conda env:deeprlbootcamp]",
   "language": "python",
   "name": "conda-env-deeprlbootcamp-py"
  },
  "language_info": {
   "codemirror_mode": {
    "name": "ipython",
    "version": 3
   },
   "file_extension": ".py",
   "mimetype": "text/x-python",
   "name": "python",
   "nbconvert_exporter": "python",
   "pygments_lexer": "ipython3",
   "version": "3.5.3"
  }
 },
 "nbformat": 4,
 "nbformat_minor": 2
}

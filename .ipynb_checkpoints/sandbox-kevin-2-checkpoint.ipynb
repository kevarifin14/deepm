{
 "cells": [
  {
   "cell_type": "code",
   "execution_count": 1,
   "metadata": {
    "collapsed": false,
    "deletable": true,
    "editable": true
   },
   "outputs": [],
   "source": [
    "import json\n",
    "import numpy as np\n",
    "\n",
    "from argparse import ArgumentParser\n",
    "from markethistory import MarketHistory\n",
    "from backtest import Backtest\n",
    "from constants import * \n",
    "from agent import Agent\n",
    "from networks import *\n",
    "\n",
    "def build_parser():\n",
    "    parser = ArgumentParser()\n",
    "    parser.add_argument('--mode',dest='mode',\n",
    "                        help='start mode, train, generate, load_data'\n",
    "                             ' backtest',\n",
    "                        metavar='MODE', default='train')\n",
    "    parser.add_argument('--net',dest='net',\n",
    "                        help='conv, conv_fc'\n",
    "                             ' backtest', default='conv')\n",
    "    return parser\n",
    "\n",
    "def get_data(config):\n",
    "    data_global = MarketHistory(config).data\n",
    "    num_feature, num_asset, T = data_global.shape\n",
    "    btc_price_tensor = np.ones((num_feature, 1, T))\n",
    "    data_global = np.concatenate((btc_price_tensor, data_global), axis=1)\n",
    "    print('Global data tensor shape:', data_global.shape)\n",
    "    return data_global\n",
    "\n",
    "def main():\n",
    "    with open('config.json') as file:\n",
    "        config = json.load(file)\n",
    "    parser = build_parser()\n",
    "    options = parser.parse_args()\n",
    "\n",
    "    if options.mode == 'train':\n",
    "        print('Setting up agent and training model...')\n",
    "        if options.net == 'conv':\n",
    "            policy = DecisionNetwork_CNN()\n",
    "        if options.net == 'conv_fc':\n",
    "            policy = DecisionNetwork_FC()\n",
    "        data_global = np.load('saves/data_global.npy')\n",
    "        agent = Agent(policy, config, data=data_global)\n",
    "        agent.train()\n",
    "        torch.save(agent.policy, 'saves/agent.pt')\n",
    "    elif options.mode == 'load_data':\n",
    "        print('Loading global data...')\n",
    "        data_global = get_data(config)\n",
    "        np.save('saves/data_global.npy', data_global)\n",
    "    elif options.mode == 'backtest':\n",
    "        print('Preparing backtest on last trained model...')\n",
    "        policy = torch.load('agent.pt')\n",
    "        data_global = np.load('data_global.npy')\n",
    "        agent = Agent(policy, config, data=data_global)\n",
    "        bt = Backtest(agent, config)"
   ]
  },
  {
   "cell_type": "code",
   "execution_count": 13,
   "metadata": {
    "collapsed": true,
    "deletable": true,
    "editable": true
   },
   "outputs": [],
   "source": [
    "with open('config.json') as file:\n",
    "    config = json.load(file)"
   ]
  },
  {
   "cell_type": "code",
   "execution_count": 14,
   "metadata": {
    "collapsed": false
   },
   "outputs": [
    {
     "data": {
      "text/plain": [
       "{'agent': {'batch_size': 256,\n",
       "  'episodes': 1500,\n",
       "  'gpu': True,\n",
       "  'lr': 0.001,\n",
       "  'num_assets': 12,\n",
       "  'period': 1800,\n",
       "  'sampling_bias': 0.0019,\n",
       "  'txn_fee': 0.0025,\n",
       "  'window': 50},\n",
       " 'backtest': {'bt_end_date': '2018/04/20',\n",
       "  'bt_start_date': '2018/04/10',\n",
       "  'coins': ['BCH',\n",
       "   'DASH',\n",
       "   'DGB',\n",
       "   'ETC',\n",
       "   'ETH',\n",
       "   'FCT',\n",
       "   'GNT',\n",
       "   'LTC',\n",
       "   'SC',\n",
       "   'STR',\n",
       "   'XEM',\n",
       "   'XMR',\n",
       "   'XRP',\n",
       "   'ZEC',\n",
       "   'reversed_USDT'],\n",
       "  'flat_fee': 0.0025,\n",
       "  'include_fees': True,\n",
       "  'period': 1800},\n",
       " 'market_history': {'coins': ['BCH',\n",
       "   'DASH',\n",
       "   'DGB',\n",
       "   'ETC',\n",
       "   'ETH',\n",
       "   'FCT',\n",
       "   'GNT',\n",
       "   'LTC',\n",
       "   'SC',\n",
       "   'STR',\n",
       "   'XEM',\n",
       "   'XMR',\n",
       "   'XRP',\n",
       "   'ZEC',\n",
       "   'reversed_USDT'],\n",
       "  'end_date': '2018/04/20',\n",
       "  'features': ['close', 'high', 'low'],\n",
       "  'ma_windows': [10, 200],\n",
       "  'moving_average': True,\n",
       "  'sampling_frequency': 300,\n",
       "  'start_date': '2018/04/01',\n",
       "  'std_window': 100}}"
      ]
     },
     "execution_count": 14,
     "metadata": {},
     "output_type": "execute_result"
    }
   ],
   "source": [
    "config"
   ]
  },
  {
   "cell_type": "markdown",
   "metadata": {
    "deletable": true,
    "editable": true
   },
   "source": [
    "## Train"
   ]
  },
  {
   "cell_type": "code",
   "execution_count": 15,
   "metadata": {
    "collapsed": false,
    "deletable": true,
    "editable": true,
    "scrolled": true
   },
   "outputs": [
    {
     "name": "stdout",
     "output_type": "stream",
     "text": [
      "Setting up agent and training model...\n",
      "Checkpoint 0: Saving agent\n",
      "episode 0  loss: -3.820076381089166e-05\n",
      "episode 1  loss: -1.066090499080019e-05\n",
      "episode 2  loss: -3.100069807260297e-05\n",
      "episode 3  loss: -2.1225918317213655e-05\n",
      "episode 4  loss: -1.8241948055219837e-05\n",
      "episode 5  loss: -3.5240998840890825e-05\n",
      "episode 6  loss: -2.9117891244823113e-05\n",
      "episode 7  loss: -3.376246240804903e-05\n",
      "episode 8  loss: -3.536168151185848e-05\n",
      "episode 9  loss: -6.333358760457486e-05\n",
      "episode 10  loss: -3.364689473528415e-05\n",
      "episode 11  loss: -3.493345502647571e-05\n",
      "episode 12  loss: -3.723783447640017e-05\n",
      "episode 13  loss: -3.127344825770706e-05\n",
      "episode 14  loss: -2.7060916181653738e-05\n",
      "episode 15  loss: -2.4294025934068486e-05\n",
      "episode 16  loss: -5.587684427155182e-05\n",
      "episode 17  loss: -2.173254506487865e-05\n",
      "episode 18  loss: -1.4518193893309217e-05\n",
      "episode 19  loss: -3.6712706787511706e-05\n",
      "episode 20  loss: -2.429794221825432e-05\n",
      "episode 21  loss: -1.9129203792545013e-05\n",
      "episode 22  loss: -5.025285281590186e-05\n",
      "episode 23  loss: -1.8264661775901914e-05\n",
      "episode 24  loss: -9.917863280861638e-06\n",
      "episode 25  loss: -3.1979663617676124e-05\n",
      "episode 26  loss: -2.343793494219426e-05\n",
      "episode 27  loss: -2.5253430067095906e-05\n",
      "episode 28  loss: -3.651452061603777e-05\n",
      "episode 29  loss: -3.651584484032355e-05\n",
      "episode 30  loss: -6.099895108491182e-05\n",
      "episode 31  loss: -4.9876289267558604e-05\n",
      "episode 32  loss: -2.0010649677715264e-05\n",
      "episode 33  loss: -1.113891903514741e-05\n",
      "episode 34  loss: -5.15229839948006e-05\n",
      "episode 35  loss: -3.811954957200214e-05\n",
      "episode 36  loss: -2.5796029490265937e-07\n",
      "episode 37  loss: -4.325130794313736e-05\n",
      "episode 38  loss: -5.2162044994474854e-06\n"
     ]
    },
    {
     "ename": "KeyboardInterrupt",
     "evalue": "",
     "output_type": "error",
     "traceback": [
      "\u001b[0;31m---------------------------------------------------------------------------\u001b[0m",
      "\u001b[0;31mKeyboardInterrupt\u001b[0m                         Traceback (most recent call last)",
      "\u001b[0;32m<ipython-input-15-67fcd86c0e73>\u001b[0m in \u001b[0;36m<module>\u001b[0;34m()\u001b[0m\n\u001b[1;32m      4\u001b[0m \u001b[0mdata_global\u001b[0m \u001b[0;34m=\u001b[0m \u001b[0mnp\u001b[0m\u001b[0;34m.\u001b[0m\u001b[0mload\u001b[0m\u001b[0;34m(\u001b[0m\u001b[0;34m'saves/data_global.npy'\u001b[0m\u001b[0;34m)\u001b[0m\u001b[0;34m\u001b[0m\u001b[0m\n\u001b[1;32m      5\u001b[0m \u001b[0magent\u001b[0m \u001b[0;34m=\u001b[0m \u001b[0mAgent\u001b[0m\u001b[0;34m(\u001b[0m\u001b[0mpolicy\u001b[0m\u001b[0;34m,\u001b[0m \u001b[0mconfig\u001b[0m\u001b[0;34m,\u001b[0m \u001b[0mdata\u001b[0m\u001b[0;34m=\u001b[0m\u001b[0mdata_global\u001b[0m\u001b[0;34m)\u001b[0m\u001b[0;34m\u001b[0m\u001b[0m\n\u001b[0;32m----> 6\u001b[0;31m \u001b[0magent\u001b[0m\u001b[0;34m.\u001b[0m\u001b[0mtrain\u001b[0m\u001b[0;34m(\u001b[0m\u001b[0;34m)\u001b[0m\u001b[0;34m\u001b[0m\u001b[0m\n\u001b[0m\u001b[1;32m      7\u001b[0m \u001b[0mtorch\u001b[0m\u001b[0;34m.\u001b[0m\u001b[0msave\u001b[0m\u001b[0;34m(\u001b[0m\u001b[0magent\u001b[0m\u001b[0;34m.\u001b[0m\u001b[0mpolicy\u001b[0m\u001b[0;34m,\u001b[0m \u001b[0;34m'saves/agent.pt'\u001b[0m\u001b[0;34m)\u001b[0m\u001b[0;34m\u001b[0m\u001b[0m\n",
      "\u001b[0;32m~/kevin/deepm/agent.py\u001b[0m in \u001b[0;36mtrain\u001b[0;34m(self)\u001b[0m\n\u001b[1;32m    156\u001b[0m             \u001b[0;32mfor\u001b[0m \u001b[0mt\u001b[0m \u001b[0;32min\u001b[0m \u001b[0mrange\u001b[0m\u001b[0;34m(\u001b[0m\u001b[0;36m0\u001b[0m\u001b[0;34m,\u001b[0m \u001b[0mself\u001b[0m\u001b[0;34m.\u001b[0m\u001b[0mwindow\u001b[0m\u001b[0;34m)\u001b[0m\u001b[0;34m:\u001b[0m\u001b[0;34m\u001b[0m\u001b[0m\n\u001b[1;32m    157\u001b[0m                 \u001b[0mprice_next\u001b[0m \u001b[0;34m=\u001b[0m \u001b[0mself\u001b[0m\u001b[0;34m.\u001b[0m\u001b[0mdata_train\u001b[0m\u001b[0;34m[\u001b[0m\u001b[0;36m0\u001b[0m\u001b[0;34m,\u001b[0m \u001b[0;34m:\u001b[0m\u001b[0;34m,\u001b[0m \u001b[0mstart_indices\u001b[0m\u001b[0;34m+\u001b[0m\u001b[0mt\u001b[0m\u001b[0;34m+\u001b[0m\u001b[0;36m1\u001b[0m\u001b[0;34m]\u001b[0m\u001b[0;34m.\u001b[0m\u001b[0mtranspose\u001b[0m\u001b[0;34m(\u001b[0m\u001b[0;36m0\u001b[0m\u001b[0;34m,\u001b[0m \u001b[0;36m1\u001b[0m\u001b[0;34m)\u001b[0m\u001b[0;34m.\u001b[0m\u001b[0mtype\u001b[0m\u001b[0;34m(\u001b[0m\u001b[0mself\u001b[0m\u001b[0;34m.\u001b[0m\u001b[0mdtype\u001b[0m\u001b[0;34m)\u001b[0m \u001b[0;31m# [batch, asset]\u001b[0m\u001b[0;34m\u001b[0m\u001b[0m\n\u001b[0;32m--> 158\u001b[0;31m                 \u001b[0mobs\u001b[0m \u001b[0;34m=\u001b[0m \u001b[0mself\u001b[0m\u001b[0;34m.\u001b[0m\u001b[0mget_observation\u001b[0m\u001b[0;34m(\u001b[0m\u001b[0mstart_indices\u001b[0m\u001b[0;34m+\u001b[0m\u001b[0mt\u001b[0m\u001b[0;34m,\u001b[0m \u001b[0mself\u001b[0m\u001b[0;34m.\u001b[0m\u001b[0mdata_train\u001b[0m\u001b[0;34m)\u001b[0m\u001b[0;34m\u001b[0m\u001b[0m\n\u001b[0m\u001b[1;32m    159\u001b[0m                 \u001b[0mpf_w\u001b[0m \u001b[0;34m=\u001b[0m \u001b[0mpf_w\u001b[0m\u001b[0;34m.\u001b[0m\u001b[0mtype\u001b[0m\u001b[0;34m(\u001b[0m\u001b[0mself\u001b[0m\u001b[0;34m.\u001b[0m\u001b[0mdtype\u001b[0m\u001b[0;34m)\u001b[0m\u001b[0;34m\u001b[0m\u001b[0m\n\u001b[1;32m    160\u001b[0m                 \u001b[0mpf_v\u001b[0m \u001b[0;34m=\u001b[0m \u001b[0mpf_v\u001b[0m\u001b[0;34m.\u001b[0m\u001b[0mtype\u001b[0m\u001b[0;34m(\u001b[0m\u001b[0mself\u001b[0m\u001b[0;34m.\u001b[0m\u001b[0mdtype\u001b[0m\u001b[0;34m)\u001b[0m\u001b[0;34m\u001b[0m\u001b[0m\n",
      "\u001b[0;32m~/kevin/deepm/agent.py\u001b[0m in \u001b[0;36mget_observation\u001b[0;34m(self, end_t_batch, history)\u001b[0m\n\u001b[1;32m     94\u001b[0m         \u001b[0;32mfor\u001b[0m \u001b[0moffset\u001b[0m \u001b[0;32min\u001b[0m \u001b[0mrange\u001b[0m\u001b[0;34m(\u001b[0m\u001b[0mself\u001b[0m\u001b[0;34m.\u001b[0m\u001b[0mwindow\u001b[0m \u001b[0;34m-\u001b[0m \u001b[0;36m1\u001b[0m\u001b[0;34m,\u001b[0m \u001b[0;34m-\u001b[0m\u001b[0;36m1\u001b[0m\u001b[0;34m,\u001b[0m \u001b[0;34m-\u001b[0m\u001b[0;36m1\u001b[0m\u001b[0;34m)\u001b[0m\u001b[0;34m:\u001b[0m\u001b[0;34m\u001b[0m\u001b[0m\n\u001b[1;32m     95\u001b[0m             \u001b[0mt_batch\u001b[0m \u001b[0;34m=\u001b[0m \u001b[0mend_t_batch\u001b[0m \u001b[0;34m-\u001b[0m \u001b[0moffset\u001b[0m\u001b[0;34m\u001b[0m\u001b[0m\n\u001b[0;32m---> 96\u001b[0;31m             \u001b[0mobservation\u001b[0m \u001b[0;34m=\u001b[0m \u001b[0mhistory\u001b[0m\u001b[0;34m[\u001b[0m\u001b[0;36m3\u001b[0m\u001b[0;34m:\u001b[0m\u001b[0;34m,\u001b[0m \u001b[0;34m:\u001b[0m\u001b[0;34m,\u001b[0m \u001b[0mt_batch\u001b[0m\u001b[0;34m]\u001b[0m\u001b[0;34m.\u001b[0m\u001b[0mpermute\u001b[0m\u001b[0;34m(\u001b[0m\u001b[0;36m2\u001b[0m\u001b[0;34m,\u001b[0m \u001b[0;36m0\u001b[0m\u001b[0;34m,\u001b[0m \u001b[0;36m1\u001b[0m\u001b[0;34m)\u001b[0m\u001b[0;34m\u001b[0m\u001b[0m\n\u001b[0m\u001b[1;32m     97\u001b[0m             \u001b[0mobs\u001b[0m\u001b[0;34m.\u001b[0m\u001b[0mappend\u001b[0m\u001b[0;34m(\u001b[0m\u001b[0mobservation\u001b[0m\u001b[0;34m)\u001b[0m\u001b[0;34m\u001b[0m\u001b[0m\n\u001b[1;32m     98\u001b[0m         \u001b[0mobs_features\u001b[0m \u001b[0;34m=\u001b[0m \u001b[0mtorch\u001b[0m\u001b[0;34m.\u001b[0m\u001b[0mstack\u001b[0m\u001b[0;34m(\u001b[0m\u001b[0mobs\u001b[0m\u001b[0;34m,\u001b[0m \u001b[0mdim\u001b[0m\u001b[0;34m=\u001b[0m\u001b[0;34m-\u001b[0m\u001b[0;36m1\u001b[0m\u001b[0;34m)\u001b[0m\u001b[0;34m\u001b[0m\u001b[0m\n",
      "\u001b[0;31mKeyboardInterrupt\u001b[0m: "
     ]
    }
   ],
   "source": [
    "print('Setting up agent and training model...')\n",
    "policy = DecisionNetwork_CNN()\n",
    "# policy = DecisionNetwork_FC()\n",
    "data_global = np.load('saves/data_global.npy')\n",
    "agent = Agent(policy, config, data=data_global)\n",
    "agent.train()\n",
    "torch.save(agent.policy, 'saves/agent.pt')"
   ]
  },
  {
   "cell_type": "code",
   "execution_count": 16,
   "metadata": {
    "collapsed": false
   },
   "outputs": [
    {
     "data": {
      "text/plain": [
       "[<matplotlib.lines.Line2D at 0x7f01bc34ceb8>]"
      ]
     },
     "execution_count": 16,
     "metadata": {},
     "output_type": "execute_result"
    },
    {
     "data": {
      "image/png": "[encoded data removed]",
      "text/plain": [
       "<matplotlib.figure.Figure at 0x7f015468c438>"
      ]
     },
     "metadata": {},
     "output_type": "display_data"
    }
   ],
   "source": [
    "import matplotlib.pyplot as plt\n",
    "%matplotlib inline\n",
    "plt.plot(agent.training_losses)"
   ]
  },
  {
   "cell_type": "markdown",
   "metadata": {
    "deletable": true,
    "editable": true
   },
   "source": [
    "## Backtest"
   ]
  },
  {
   "cell_type": "code",
   "execution_count": 7,
   "metadata": {
    "collapsed": false,
    "deletable": true,
    "editable": true
   },
   "outputs": [
    {
     "name": "stdout",
     "output_type": "stream",
     "text": [
      "Preparing backtest on last trained model...\n",
      "Getting backtest results for train data...\n",
      "include_fees\n",
      "Getting backtest results for test data...\n",
      "include_fees\n",
      "       Final portfolio value  Average return    Sharpe\n",
      "Test               -0.027050    5.325249e-07 -3.057769\n",
      "Train              -0.029575    7.131380e-49 -8.183120\n",
      "Number of trades per asset: \n",
      "{'LTC': 476, 'GNT': 476, 'STR': 476, 'ETH': 476, 'BCH': 476, 'FCT': 476, 'XMR': 476, 'XEM': 476, 'ETC': 476, 'SC': 476, 'DASH': 476, 'DGB': 476}\n"
     ]
    }
   ],
   "source": [
    "print('Preparing backtest on last trained model...')\n",
    "policy = torch.load('saves/agent.pt')\n",
    "data_global = np.load('saves/data_global.npy')\n",
    "agent = Agent(policy, config, data=data_global)\n",
    "bt = Backtest(agent, config)"
   ]
  },
  {
   "cell_type": "code",
   "execution_count": null,
   "metadata": {
    "collapsed": true,
    "deletable": true,
    "editable": true
   },
   "outputs": [],
   "source": []
  }
 ],
 "metadata": {
  "kernelspec": {
   "display_name": "Python [conda env:tensorflow]",
   "language": "python",
   "name": "conda-env-tensorflow-py"
  },
  "language_info": {
   "codemirror_mode": {
    "name": "ipython",
    "version": 3
   },
   "file_extension": ".py",
   "mimetype": "text/x-python",
   "name": "python",
   "nbconvert_exporter": "python",
   "pygments_lexer": "ipython3",
   "version": "3.5.4"
  }
 },
 "nbformat": 4,
 "nbformat_minor": 2
}

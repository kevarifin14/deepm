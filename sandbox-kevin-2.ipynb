{
 "cells": [
  {
   "cell_type": "code",
   "execution_count": 2,
   "metadata": {
    "collapsed": false,
    "deletable": true,
    "editable": true
   },
   "outputs": [],
   "source": [
    "import json\n",
    "import numpy as np\n",
    "\n",
    "from argparse import ArgumentParser\n",
    "from markethistory import MarketHistory\n",
    "from backtest import Backtest\n",
    "from constants import * \n",
    "from agent import Agent\n",
    "from networks import *\n",
    "\n",
    "%load_ext autoreload\n",
    "%autoreload 2\n",
    "\n",
    "def build_parser():\n",
    "    parser = ArgumentParser()\n",
    "    parser.add_argument('--mode',dest='mode',\n",
    "                        help='start mode, train, generate, load_data'\n",
    "                             ' backtest',\n",
    "                        metavar='MODE', default='train')\n",
    "    parser.add_argument('--net',dest='net',\n",
    "                        help='conv, conv_fc'\n",
    "                             ' backtest', default='conv')\n",
    "    return parser\n",
    "\n",
    "def get_data(config):\n",
    "    data_global = MarketHistory(config).data\n",
    "    num_feature, num_asset, T = data_global.shape\n",
    "    btc_price_tensor = np.ones((num_feature, 1, T))\n",
    "    data_global = np.concatenate((btc_price_tensor, data_global), axis=1)\n",
    "    print('Global data tensor shape:', data_global.shape)\n",
    "    return data_global\n",
    "\n",
    "def main():\n",
    "    with open('config.json') as file:\n",
    "        config = json.load(file)\n",
    "    parser = build_parser()\n",
    "    options = parser.parse_args()\n",
    "\n",
    "    if options.mode == 'train':\n",
    "        print('Setting up agent and training model...')\n",
    "        if options.net == 'conv':\n",
    "            policy = DecisionNetwork_CNN()\n",
    "        if options.net == 'conv_fc':\n",
    "            policy = DecisionNetwork_FC()\n",
    "        data_global = np.load('saves/data_global.npy')\n",
    "        agent = Agent(policy, config, data=data_global)\n",
    "        agent.train()\n",
    "        torch.save(agent.policy, 'saves/agent.pt')\n",
    "    elif options.mode == 'load_data':\n",
    "        print('Loading global data...')\n",
    "        data_global = get_data(config)\n",
    "        np.save('saves/data_global.npy', data_global)\n",
    "    elif options.mode == 'backtest':\n",
    "        print('Preparing backtest on last trained model...')\n",
    "        policy = torch.load('agent.pt')\n",
    "        data_global = np.load('data_global.npy')\n",
    "        agent = Agent(policy, config, data=data_global)\n",
    "        bt = Backtest(agent, config)"
   ]
  },
  {
   "cell_type": "code",
   "execution_count": 3,
   "metadata": {
    "collapsed": false,
    "deletable": true,
    "editable": true
   },
   "outputs": [],
   "source": [
    "with open('config.json') as file:\n",
    "    config = json.load(file)"
   ]
  },
  {
   "cell_type": "code",
   "execution_count": 4,
   "metadata": {
    "collapsed": false,
    "deletable": true,
    "editable": true
   },
   "outputs": [
    {
     "data": {
      "text/plain": [
       "{'agent': {'batch_size': 256,\n",
       "  'episodes': 1500,\n",
       "  'gpu': True,\n",
       "  'lr': 0.001,\n",
       "  'num_assets': 12,\n",
       "  'period': 1800,\n",
       "  'sampling_bias': 0.0019,\n",
       "  'txn_fee': 0.0025,\n",
       "  'window': 50},\n",
       " 'backtest': {'bt_end_date': '2018/04/20',\n",
       "  'bt_start_date': '2018/04/10',\n",
       "  'coins': ['BCH',\n",
       "   'DASH',\n",
       "   'DGB',\n",
       "   'ETC',\n",
       "   'ETH',\n",
       "   'FCT',\n",
       "   'GNT',\n",
       "   'LTC',\n",
       "   'SC',\n",
       "   'STR',\n",
       "   'XEM',\n",
       "   'XMR',\n",
       "   'XRP',\n",
       "   'ZEC',\n",
       "   'reversed_USDT'],\n",
       "  'flat_fee': 0.0025,\n",
       "  'include_fees': True,\n",
       "  'period': 1800},\n",
       " 'market_history': {'coins': ['BCH',\n",
       "   'DASH',\n",
       "   'DGB',\n",
       "   'ETC',\n",
       "   'ETH',\n",
       "   'FCT',\n",
       "   'GNT',\n",
       "   'LTC',\n",
       "   'SC',\n",
       "   'STR',\n",
       "   'XEM',\n",
       "   'XMR',\n",
       "   'XRP',\n",
       "   'ZEC',\n",
       "   'reversed_USDT'],\n",
       "  'end_date': '2018/04/20',\n",
       "  'features': ['close', 'high', 'low'],\n",
       "  'ma_windows': [10, 200],\n",
       "  'moving_average': True,\n",
       "  'sampling_frequency': 300,\n",
       "  'start_date': '2018/04/01',\n",
       "  'std_window': 100}}"
      ]
     },
     "execution_count": 4,
     "metadata": {},
     "output_type": "execute_result"
    }
   ],
   "source": [
    "config"
   ]
  },
  {
   "cell_type": "markdown",
   "metadata": {
    "deletable": true,
    "editable": true
   },
   "source": [
    "## Train"
   ]
  },
  {
   "cell_type": "code",
   "execution_count": 21,
   "metadata": {
    "collapsed": false,
    "deletable": true,
    "editable": true,
    "scrolled": true
   },
   "outputs": [],
   "source": [
    "# policy = DecisionNetwork_CNN()\n",
    "policy = DecisionNetwork_FC()"
   ]
  },
  {
   "cell_type": "code",
   "execution_count": 22,
   "metadata": {
    "collapsed": false,
    "deletable": true,
    "editable": true
   },
   "outputs": [
    {
     "data": {
      "text/plain": [
       "DecisionNetwork_FC(\n",
       "  (conv1): Conv2d(6, 6, kernel_size=[1, 6], stride=(1, 1))\n",
       "  (conv2): Conv2d(6, 20, kernel_size=[1, 45], stride=(1, 1))\n",
       "  (conv3): Conv2d(16, 1, kernel_size=[1, 1], stride=(1, 1))\n",
       "  (linear1): Linear(in_features=21, out_features=32, bias=True)\n",
       "  (linear2): Linear(in_features=32, out_features=16, bias=True)\n",
       "  (batchnorm1): BatchNorm2d(32, eps=1e-05, momentum=0.1, affine=True, track_running_stats=True)\n",
       "  (batchnorm2): BatchNorm2d(16, eps=1e-05, momentum=0.1, affine=True, track_running_stats=True)\n",
       ")"
      ]
     },
     "execution_count": 22,
     "metadata": {},
     "output_type": "execute_result"
    }
   ],
   "source": [
    "policy"
   ]
  },
  {
   "cell_type": "code",
   "execution_count": 23,
   "metadata": {
    "collapsed": false,
    "deletable": true,
    "editable": true,
    "scrolled": true
   },
   "outputs": [
    {
     "name": "stdout",
     "output_type": "stream",
     "text": [
      "Checkpoint 0: Saving agent\n",
      "episode 0  loss: 2.613737706269603e-07\n",
      "episode 1  loss: -2.289534495503176e-05\n",
      "episode 2  loss: -1.6785994375823066e-05\n",
      "episode 3  loss: -4.2585063056321815e-05\n",
      "episode 4  loss: -6.900591415615054e-06\n",
      "episode 5  loss: -4.918152990285307e-05\n",
      "episode 6  loss: -1.0417015801067464e-05\n",
      "episode 7  loss: -2.4031718567130156e-05\n",
      "episode 8  loss: -2.2506192181026563e-05\n",
      "episode 9  loss: -2.406343446637038e-05\n"
     ]
    },
    {
     "ename": "KeyboardInterrupt",
     "evalue": "",
     "output_type": "error",
     "traceback": [
      "\u001b[0;31m---------------------------------------------------------------------------\u001b[0m",
      "\u001b[0;31mKeyboardInterrupt\u001b[0m                         Traceback (most recent call last)",
      "\u001b[0;32m<ipython-input-23-2e5ff902a3b8>\u001b[0m in \u001b[0;36m<module>\u001b[0;34m()\u001b[0m\n\u001b[1;32m      1\u001b[0m \u001b[0mdata_global\u001b[0m \u001b[0;34m=\u001b[0m \u001b[0mnp\u001b[0m\u001b[0;34m.\u001b[0m\u001b[0mload\u001b[0m\u001b[0;34m(\u001b[0m\u001b[0;34m'saves/data_global.npy'\u001b[0m\u001b[0;34m)\u001b[0m\u001b[0;34m\u001b[0m\u001b[0m\n\u001b[1;32m      2\u001b[0m \u001b[0magent\u001b[0m \u001b[0;34m=\u001b[0m \u001b[0mAgent\u001b[0m\u001b[0;34m(\u001b[0m\u001b[0mpolicy\u001b[0m\u001b[0;34m,\u001b[0m \u001b[0mconfig\u001b[0m\u001b[0;34m,\u001b[0m \u001b[0mdata\u001b[0m\u001b[0;34m=\u001b[0m\u001b[0mdata_global\u001b[0m\u001b[0;34m)\u001b[0m\u001b[0;34m\u001b[0m\u001b[0m\n\u001b[0;32m----> 3\u001b[0;31m \u001b[0magent\u001b[0m\u001b[0;34m.\u001b[0m\u001b[0mtrain\u001b[0m\u001b[0;34m(\u001b[0m\u001b[0;34m)\u001b[0m\u001b[0;34m\u001b[0m\u001b[0m\n\u001b[0m\u001b[1;32m      4\u001b[0m \u001b[0mtorch\u001b[0m\u001b[0;34m.\u001b[0m\u001b[0msave\u001b[0m\u001b[0;34m(\u001b[0m\u001b[0magent\u001b[0m\u001b[0;34m.\u001b[0m\u001b[0mpolicy\u001b[0m\u001b[0;34m,\u001b[0m \u001b[0;34m'saves/agent.pt'\u001b[0m\u001b[0;34m)\u001b[0m\u001b[0;34m\u001b[0m\u001b[0m\n",
      "\u001b[0;32m~/kevin/deepm/agent.py\u001b[0m in \u001b[0;36mtrain\u001b[0;34m(self)\u001b[0m\n\u001b[1;32m    156\u001b[0m             \u001b[0;32mfor\u001b[0m \u001b[0mt\u001b[0m \u001b[0;32min\u001b[0m \u001b[0mrange\u001b[0m\u001b[0;34m(\u001b[0m\u001b[0;36m0\u001b[0m\u001b[0;34m,\u001b[0m \u001b[0mself\u001b[0m\u001b[0;34m.\u001b[0m\u001b[0mwindow\u001b[0m\u001b[0;34m)\u001b[0m\u001b[0;34m:\u001b[0m\u001b[0;34m\u001b[0m\u001b[0m\n\u001b[1;32m    157\u001b[0m                 \u001b[0mprice_next\u001b[0m \u001b[0;34m=\u001b[0m \u001b[0mself\u001b[0m\u001b[0;34m.\u001b[0m\u001b[0mdata_train\u001b[0m\u001b[0;34m[\u001b[0m\u001b[0;36m0\u001b[0m\u001b[0;34m,\u001b[0m \u001b[0;34m:\u001b[0m\u001b[0;34m,\u001b[0m \u001b[0mstart_indices\u001b[0m\u001b[0;34m+\u001b[0m\u001b[0mt\u001b[0m\u001b[0;34m+\u001b[0m\u001b[0;36m1\u001b[0m\u001b[0;34m]\u001b[0m\u001b[0;34m.\u001b[0m\u001b[0mtranspose\u001b[0m\u001b[0;34m(\u001b[0m\u001b[0;36m0\u001b[0m\u001b[0;34m,\u001b[0m \u001b[0;36m1\u001b[0m\u001b[0;34m)\u001b[0m\u001b[0;34m.\u001b[0m\u001b[0mtype\u001b[0m\u001b[0;34m(\u001b[0m\u001b[0mself\u001b[0m\u001b[0;34m.\u001b[0m\u001b[0mdtype\u001b[0m\u001b[0;34m)\u001b[0m \u001b[0;31m# [batch, asset]\u001b[0m\u001b[0;34m\u001b[0m\u001b[0m\n\u001b[0;32m--> 158\u001b[0;31m                 \u001b[0mobs\u001b[0m \u001b[0;34m=\u001b[0m \u001b[0mself\u001b[0m\u001b[0;34m.\u001b[0m\u001b[0mget_observation\u001b[0m\u001b[0;34m(\u001b[0m\u001b[0mstart_indices\u001b[0m\u001b[0;34m+\u001b[0m\u001b[0mt\u001b[0m\u001b[0;34m,\u001b[0m \u001b[0mself\u001b[0m\u001b[0;34m.\u001b[0m\u001b[0mdata_train\u001b[0m\u001b[0;34m)\u001b[0m\u001b[0;34m\u001b[0m\u001b[0m\n\u001b[0m\u001b[1;32m    159\u001b[0m                 \u001b[0mpf_w\u001b[0m \u001b[0;34m=\u001b[0m \u001b[0mpf_w\u001b[0m\u001b[0;34m.\u001b[0m\u001b[0mtype\u001b[0m\u001b[0;34m(\u001b[0m\u001b[0mself\u001b[0m\u001b[0;34m.\u001b[0m\u001b[0mdtype\u001b[0m\u001b[0;34m)\u001b[0m\u001b[0;34m\u001b[0m\u001b[0m\n\u001b[1;32m    160\u001b[0m                 \u001b[0mpf_v\u001b[0m \u001b[0;34m=\u001b[0m \u001b[0mpf_v\u001b[0m\u001b[0;34m.\u001b[0m\u001b[0mtype\u001b[0m\u001b[0;34m(\u001b[0m\u001b[0mself\u001b[0m\u001b[0;34m.\u001b[0m\u001b[0mdtype\u001b[0m\u001b[0;34m)\u001b[0m\u001b[0;34m\u001b[0m\u001b[0m\n",
      "\u001b[0;32m~/kevin/deepm/agent.py\u001b[0m in \u001b[0;36mget_observation\u001b[0;34m(self, end_t_batch, history)\u001b[0m\n\u001b[1;32m     82\u001b[0m         \u001b[0;32mfor\u001b[0m \u001b[0moffset\u001b[0m \u001b[0;32min\u001b[0m \u001b[0mrange\u001b[0m\u001b[0;34m(\u001b[0m\u001b[0mself\u001b[0m\u001b[0;34m.\u001b[0m\u001b[0mwindow\u001b[0m \u001b[0;34m-\u001b[0m \u001b[0;36m1\u001b[0m\u001b[0;34m,\u001b[0m \u001b[0;34m-\u001b[0m\u001b[0;36m1\u001b[0m\u001b[0;34m,\u001b[0m \u001b[0;34m-\u001b[0m\u001b[0;36m1\u001b[0m\u001b[0;34m)\u001b[0m\u001b[0;34m:\u001b[0m\u001b[0;34m\u001b[0m\u001b[0m\n\u001b[1;32m     83\u001b[0m             \u001b[0mt_batch\u001b[0m \u001b[0;34m=\u001b[0m \u001b[0mend_t_batch\u001b[0m \u001b[0;34m-\u001b[0m \u001b[0moffset\u001b[0m\u001b[0;34m\u001b[0m\u001b[0m\n\u001b[0;32m---> 84\u001b[0;31m             \u001b[0mobservation\u001b[0m \u001b[0;34m=\u001b[0m \u001b[0mhistory\u001b[0m\u001b[0;34m[\u001b[0m\u001b[0;34m:\u001b[0m\u001b[0;36m3\u001b[0m\u001b[0;34m,\u001b[0m \u001b[0;34m:\u001b[0m\u001b[0;34m,\u001b[0m \u001b[0mt_batch\u001b[0m\u001b[0;34m]\u001b[0m\u001b[0;34m.\u001b[0m\u001b[0mpermute\u001b[0m\u001b[0;34m(\u001b[0m\u001b[0;36m2\u001b[0m\u001b[0;34m,\u001b[0m \u001b[0;36m0\u001b[0m\u001b[0;34m,\u001b[0m \u001b[0;36m1\u001b[0m\u001b[0;34m)\u001b[0m\u001b[0;34m\u001b[0m\u001b[0m\n\u001b[0m\u001b[1;32m     85\u001b[0m             \u001b[0mobs\u001b[0m\u001b[0;34m.\u001b[0m\u001b[0mappend\u001b[0m\u001b[0;34m(\u001b[0m\u001b[0mobservation\u001b[0m\u001b[0;34m)\u001b[0m\u001b[0;34m\u001b[0m\u001b[0m\n\u001b[1;32m     86\u001b[0m         \u001b[0mobs_prices\u001b[0m \u001b[0;34m=\u001b[0m \u001b[0mtorch\u001b[0m\u001b[0;34m.\u001b[0m\u001b[0mstack\u001b[0m\u001b[0;34m(\u001b[0m\u001b[0mobs\u001b[0m\u001b[0;34m,\u001b[0m \u001b[0mdim\u001b[0m\u001b[0;34m=\u001b[0m\u001b[0;34m-\u001b[0m\u001b[0;36m1\u001b[0m\u001b[0;34m)\u001b[0m\u001b[0;34m\u001b[0m\u001b[0m\n",
      "\u001b[0;31mKeyboardInterrupt\u001b[0m: "
     ]
    }
   ],
   "source": [
    "data_global = np.load('saves/data_global.npy')\n",
    "agent = Agent(policy, config, data=data_global)\n",
    "agent.train()\n",
    "torch.save(agent.policy, 'saves/agent.pt')"
   ]
  },
  {
   "cell_type": "code",
   "execution_count": 24,
   "metadata": {
    "collapsed": true
   },
   "outputs": [],
   "source": [
    "saved_losses.append(agent.training_losses)"
   ]
  },
  {
   "cell_type": "code",
   "execution_count": 25,
   "metadata": {
    "collapsed": false
   },
   "outputs": [],
   "source": [
    "s = saved_losses[-1]\n",
    "saved_losses = saved_losses[:-1]"
   ]
  },
  {
   "cell_type": "code",
   "execution_count": 26,
   "metadata": {
    "collapsed": true
   },
   "outputs": [],
   "source": [
    "saved_losses.extend(s)"
   ]
  },
  {
   "cell_type": "code",
   "execution_count": 27,
   "metadata": {
    "collapsed": false
   },
   "outputs": [
    {
     "data": {
      "text/plain": [
       "221"
      ]
     },
     "execution_count": 27,
     "metadata": {},
     "output_type": "execute_result"
    }
   ],
   "source": [
    "len(saved_losses)"
   ]
  },
  {
   "cell_type": "code",
   "execution_count": 28,
   "metadata": {
    "collapsed": false,
    "deletable": true,
    "editable": true
   },
   "outputs": [
    {
     "data": {
      "text/plain": [
       "[<matplotlib.lines.Line2D at 0x7f04880dbac8>]"
      ]
     },
     "execution_count": 28,
     "metadata": {},
     "output_type": "execute_result"
    },
    {
     "data": {
      "image/png": "[encoded data removed]",
      "text/plain": [
       "<matplotlib.figure.Figure at 0x7f0488182ac8>"
      ]
     },
     "metadata": {},
     "output_type": "display_data"
    }
   ],
   "source": [
    "import matplotlib.pyplot as plt\n",
    "%matplotlib inline\n",
    "plt.plot(agent.training_losses)"
   ]
  },
  {
   "cell_type": "markdown",
   "metadata": {
    "deletable": true,
    "editable": true
   },
   "source": [
    "## Backtest"
   ]
  },
  {
   "cell_type": "code",
   "execution_count": 7,
   "metadata": {
    "collapsed": false,
    "deletable": true,
    "editable": true
   },
   "outputs": [
    {
     "name": "stdout",
     "output_type": "stream",
     "text": [
      "Preparing backtest on last trained model...\n",
      "Getting backtest results for train data...\n",
      "include_fees\n",
      "Getting backtest results for test data...\n",
      "include_fees\n",
      "       Final portfolio value  Average return    Sharpe\n",
      "Test               -0.027050    5.325249e-07 -3.057769\n",
      "Train              -0.029575    7.131380e-49 -8.183120\n",
      "Number of trades per asset: \n",
      "{'LTC': 476, 'GNT': 476, 'STR': 476, 'ETH': 476, 'BCH': 476, 'FCT': 476, 'XMR': 476, 'XEM': 476, 'ETC': 476, 'SC': 476, 'DASH': 476, 'DGB': 476}\n"
     ]
    }
   ],
   "source": [
    "print('Preparing backtest on last trained model...')\n",
    "policy = torch.load('saves/agent.pt')\n",
    "data_global = np.load('saves/data_global.npy')\n",
    "agent = Agent(policy, config, data=data_global)\n",
    "bt = Backtest(agent, config)"
   ]
  },
  {
   "cell_type": "code",
   "execution_count": null,
   "metadata": {
    "collapsed": true,
    "deletable": true,
    "editable": true
   },
   "outputs": [],
   "source": []
  }
 ],
 "metadata": {
  "kernelspec": {
   "display_name": "Python [conda env:tensorflow]",
   "language": "python",
   "name": "conda-env-tensorflow-py"
  }
 },
 "nbformat": 4,
 "nbformat_minor": 2
}
